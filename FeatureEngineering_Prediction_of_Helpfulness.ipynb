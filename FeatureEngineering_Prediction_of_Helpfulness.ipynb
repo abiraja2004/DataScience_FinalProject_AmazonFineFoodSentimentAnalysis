{
 "cells": [
  {
   "cell_type": "code",
   "execution_count": 6,
   "metadata": {
    "collapsed": false
   },
   "outputs": [
    {
     "name": "stdout",
     "output_type": "stream",
     "text": [
      ".\\Fooddata\\Reviews.csv\n"
     ]
    }
   ],
   "source": [
    "import matplotlib.pyplot as plt\n",
    "import numpy as np\n",
    "import os\n",
    "import pandas as pd\n",
    "import pylab as pl\n",
    "#import seaborn as sns\n",
    "#import statsmodels.api as sm\n",
    "\n",
    "#%matplotlib inline\n",
    "#sns.set(style='white', font_scale=0.9)\n",
    "\n",
    "data_directory = os.path.join('.', 'Fooddata') \n",
    "\n",
    "cleaned_data_path = os.path.join(data_directory, 'Reviews.csv')\n",
    "print(cleaned_data_path)"
   ]
  },
  {
   "cell_type": "code",
   "execution_count": 13,
   "metadata": {
    "collapsed": false
   },
   "outputs": [
    {
     "name": "stdout",
     "output_type": "stream",
     "text": [
      "<class 'pandas.core.frame.DataFrame'>\n",
      "RangeIndex: 568454 entries, 0 to 568453\n",
      "Data columns (total 10 columns):\n",
      "Id                        568454 non-null int64\n",
      "ProductId                 568454 non-null object\n",
      "UserId                    568454 non-null object\n",
      "ProfileName               568438 non-null object\n",
      "HelpfulnessNumerator      568454 non-null int64\n",
      "HelpfulnessDenominator    568454 non-null int64\n",
      "Score                     568454 non-null int64\n",
      "Time                      568454 non-null int64\n",
      "Summary                   568428 non-null object\n",
      "Text                      568454 non-null object\n",
      "dtypes: int64(5), object(5)\n",
      "memory usage: 43.4+ MB\n",
      "None\n"
     ]
    }
   ],
   "source": [
    "#food_df = pd.read_csv(cleaned_data_path, low_memory=False, encoding='UTF-8')\n",
    "food_df=pd.read_csv(\"C:/Users/mahesh/Desktop/Data_Science/FinalProject/Reviews.csv\")\n",
    "print(food_df.info())"
   ]
  },
  {
   "cell_type": "code",
   "execution_count": 15,
   "metadata": {
    "collapsed": false
   },
   "outputs": [
    {
     "data": {
      "text/html": [
       "<div>\n",
       "<table border=\"1\" class=\"dataframe\">\n",
       "  <thead>\n",
       "    <tr style=\"text-align: right;\">\n",
       "      <th></th>\n",
       "      <th>HelpfulnessNumerator</th>\n",
       "      <th>HelpfulnessDenominator</th>\n",
       "      <th>Score</th>\n",
       "      <th>Text</th>\n",
       "    </tr>\n",
       "  </thead>\n",
       "  <tbody>\n",
       "    <tr>\n",
       "      <th>0</th>\n",
       "      <td>1</td>\n",
       "      <td>1</td>\n",
       "      <td>5</td>\n",
       "      <td>I have bought several of the Vitality canned d...</td>\n",
       "    </tr>\n",
       "    <tr>\n",
       "      <th>1</th>\n",
       "      <td>0</td>\n",
       "      <td>0</td>\n",
       "      <td>1</td>\n",
       "      <td>Product arrived labeled as Jumbo Salted Peanut...</td>\n",
       "    </tr>\n",
       "    <tr>\n",
       "      <th>2</th>\n",
       "      <td>1</td>\n",
       "      <td>1</td>\n",
       "      <td>4</td>\n",
       "      <td>This is a confection that has been around a fe...</td>\n",
       "    </tr>\n",
       "    <tr>\n",
       "      <th>3</th>\n",
       "      <td>3</td>\n",
       "      <td>3</td>\n",
       "      <td>2</td>\n",
       "      <td>If you are looking for the secret ingredient i...</td>\n",
       "    </tr>\n",
       "    <tr>\n",
       "      <th>4</th>\n",
       "      <td>0</td>\n",
       "      <td>0</td>\n",
       "      <td>5</td>\n",
       "      <td>Great taffy at a great price.  There was a wid...</td>\n",
       "    </tr>\n",
       "  </tbody>\n",
       "</table>\n",
       "</div>"
      ],
      "text/plain": [
       "   HelpfulnessNumerator  HelpfulnessDenominator  Score  \\\n",
       "0                     1                       1      5   \n",
       "1                     0                       0      1   \n",
       "2                     1                       1      4   \n",
       "3                     3                       3      2   \n",
       "4                     0                       0      5   \n",
       "\n",
       "                                                Text  \n",
       "0  I have bought several of the Vitality canned d...  \n",
       "1  Product arrived labeled as Jumbo Salted Peanut...  \n",
       "2  This is a confection that has been around a fe...  \n",
       "3  If you are looking for the secret ingredient i...  \n",
       "4  Great taffy at a great price.  There was a wid...  "
      ]
     },
     "execution_count": 15,
     "metadata": {},
     "output_type": "execute_result"
    }
   ],
   "source": [
    "#Using only columns needed \n",
    "df = food_df.iloc[:, [4,5,6,9]]\n",
    "df.head()"
   ]
  },
  {
   "cell_type": "markdown",
   "metadata": {},
   "source": [
    "#### I have only included reviews that have more than 10 votes from users on whether the review was helpful or not. With this filter, the dataset is significantly reduce from 560,000+ reviews to 21,463 reviews."
   ]
  },
  {
   "cell_type": "code",
   "execution_count": 18,
   "metadata": {
    "collapsed": false
   },
   "outputs": [
    {
     "data": {
      "text/plain": [
       "(21463,)"
      ]
     },
     "execution_count": 18,
     "metadata": {},
     "output_type": "execute_result"
    }
   ],
   "source": [
    "#include reviews that have more than 10 helpfulness data point only\n",
    "df = df[(df.HelpfulnessDenominator > 10)]\n",
    "df['Score'].shape"
   ]
  },
  {
   "cell_type": "code",
   "execution_count": 19,
   "metadata": {
    "collapsed": false
   },
   "outputs": [
    {
     "data": {
      "text/plain": [
       "HelpfulnessNumerator      0\n",
       "HelpfulnessDenominator    0\n",
       "Score                     0\n",
       "Text                      0\n",
       "dtype: int64"
      ]
     },
     "execution_count": 19,
     "metadata": {},
     "output_type": "execute_result"
    }
   ],
   "source": [
    "#check for missing values\n",
    "df.isnull().sum()"
   ]
  },
  {
   "cell_type": "markdown",
   "metadata": {},
   "source": [
    "# Feature Engineering\n",
    "## Derived a column Helpful which is the ratio of HelpfulnessNumerator and HelpfulnessDenominator. It gives 1 if the ratio is greater than 0.5 else returns 0."
   ]
  },
  {
   "cell_type": "code",
   "execution_count": 20,
   "metadata": {
    "collapsed": false
   },
   "outputs": [
    {
     "data": {
      "text/html": [
       "<div>\n",
       "<table border=\"1\" class=\"dataframe\">\n",
       "  <thead>\n",
       "    <tr style=\"text-align: right;\">\n",
       "      <th></th>\n",
       "      <th>Id</th>\n",
       "      <th>ProductId</th>\n",
       "      <th>UserId</th>\n",
       "      <th>ProfileName</th>\n",
       "      <th>HelpfulnessNumerator</th>\n",
       "      <th>HelpfulnessDenominator</th>\n",
       "      <th>Score</th>\n",
       "      <th>Time</th>\n",
       "      <th>Summary</th>\n",
       "      <th>Text</th>\n",
       "      <th>Helpful</th>\n",
       "    </tr>\n",
       "  </thead>\n",
       "  <tbody>\n",
       "    <tr>\n",
       "      <th>0</th>\n",
       "      <td>1</td>\n",
       "      <td>B001E4KFG0</td>\n",
       "      <td>A3SGXH7AUHU8GW</td>\n",
       "      <td>delmartian</td>\n",
       "      <td>1</td>\n",
       "      <td>1</td>\n",
       "      <td>5</td>\n",
       "      <td>1303862400</td>\n",
       "      <td>Good Quality Dog Food</td>\n",
       "      <td>I have bought several of the Vitality canned d...</td>\n",
       "      <td>1</td>\n",
       "    </tr>\n",
       "    <tr>\n",
       "      <th>1</th>\n",
       "      <td>2</td>\n",
       "      <td>B00813GRG4</td>\n",
       "      <td>A1D87F6ZCVE5NK</td>\n",
       "      <td>dll pa</td>\n",
       "      <td>0</td>\n",
       "      <td>0</td>\n",
       "      <td>1</td>\n",
       "      <td>1346976000</td>\n",
       "      <td>Not as Advertised</td>\n",
       "      <td>Product arrived labeled as Jumbo Salted Peanut...</td>\n",
       "      <td>0</td>\n",
       "    </tr>\n",
       "    <tr>\n",
       "      <th>2</th>\n",
       "      <td>3</td>\n",
       "      <td>B000LQOCH0</td>\n",
       "      <td>ABXLMWJIXXAIN</td>\n",
       "      <td>Natalia Corres \"Natalia Corres\"</td>\n",
       "      <td>1</td>\n",
       "      <td>1</td>\n",
       "      <td>4</td>\n",
       "      <td>1219017600</td>\n",
       "      <td>\"Delight\" says it all</td>\n",
       "      <td>This is a confection that has been around a fe...</td>\n",
       "      <td>1</td>\n",
       "    </tr>\n",
       "    <tr>\n",
       "      <th>3</th>\n",
       "      <td>4</td>\n",
       "      <td>B000UA0QIQ</td>\n",
       "      <td>A395BORC6FGVXV</td>\n",
       "      <td>Karl</td>\n",
       "      <td>3</td>\n",
       "      <td>3</td>\n",
       "      <td>2</td>\n",
       "      <td>1307923200</td>\n",
       "      <td>Cough Medicine</td>\n",
       "      <td>If you are looking for the secret ingredient i...</td>\n",
       "      <td>1</td>\n",
       "    </tr>\n",
       "    <tr>\n",
       "      <th>4</th>\n",
       "      <td>5</td>\n",
       "      <td>B006K2ZZ7K</td>\n",
       "      <td>A1UQRSCLF8GW1T</td>\n",
       "      <td>Michael D. Bigham \"M. Wassir\"</td>\n",
       "      <td>0</td>\n",
       "      <td>0</td>\n",
       "      <td>5</td>\n",
       "      <td>1350777600</td>\n",
       "      <td>Great taffy</td>\n",
       "      <td>Great taffy at a great price.  There was a wid...</td>\n",
       "      <td>0</td>\n",
       "    </tr>\n",
       "  </tbody>\n",
       "</table>\n",
       "</div>"
      ],
      "text/plain": [
       "   Id   ProductId          UserId                      ProfileName  \\\n",
       "0   1  B001E4KFG0  A3SGXH7AUHU8GW                       delmartian   \n",
       "1   2  B00813GRG4  A1D87F6ZCVE5NK                           dll pa   \n",
       "2   3  B000LQOCH0   ABXLMWJIXXAIN  Natalia Corres \"Natalia Corres\"   \n",
       "3   4  B000UA0QIQ  A395BORC6FGVXV                             Karl   \n",
       "4   5  B006K2ZZ7K  A1UQRSCLF8GW1T    Michael D. Bigham \"M. Wassir\"   \n",
       "\n",
       "   HelpfulnessNumerator  HelpfulnessDenominator  Score        Time  \\\n",
       "0                     1                       1      5  1303862400   \n",
       "1                     0                       0      1  1346976000   \n",
       "2                     1                       1      4  1219017600   \n",
       "3                     3                       3      2  1307923200   \n",
       "4                     0                       0      5  1350777600   \n",
       "\n",
       "                 Summary                                               Text  \\\n",
       "0  Good Quality Dog Food  I have bought several of the Vitality canned d...   \n",
       "1      Not as Advertised  Product arrived labeled as Jumbo Salted Peanut...   \n",
       "2  \"Delight\" says it all  This is a confection that has been around a fe...   \n",
       "3         Cough Medicine  If you are looking for the secret ingredient i...   \n",
       "4            Great taffy  Great taffy at a great price.  There was a wid...   \n",
       "\n",
       "   Helpful  \n",
       "0        1  \n",
       "1        0  \n",
       "2        1  \n",
       "3        1  \n",
       "4        0  "
      ]
     },
     "execution_count": 20,
     "metadata": {},
     "output_type": "execute_result"
    }
   ],
   "source": [
    "#transform Helpfulness into a binary variable with 0.50 ratio\n",
    "food_df.loc[:, 'Helpful'] = np.where(food_df.loc[:, 'HelpfulnessNumerator'] / food_df.loc[:, 'HelpfulnessDenominator'] > 0.50, 1, 0)\n",
    "food_df.head() "
   ]
  },
  {
   "cell_type": "code",
   "execution_count": 22,
   "metadata": {
    "collapsed": false
   },
   "outputs": [
    {
     "data": {
      "text/html": [
       "<div>\n",
       "<table border=\"1\" class=\"dataframe\">\n",
       "  <thead>\n",
       "    <tr style=\"text-align: right;\">\n",
       "      <th></th>\n",
       "      <th>Id</th>\n",
       "      <th>ProductId</th>\n",
       "      <th>UserId</th>\n",
       "      <th>ProfileName</th>\n",
       "      <th>HelpfulnessNumerator</th>\n",
       "      <th>HelpfulnessDenominator</th>\n",
       "      <th>Score</th>\n",
       "      <th>Time</th>\n",
       "      <th>Summary</th>\n",
       "      <th>Text</th>\n",
       "    </tr>\n",
       "    <tr>\n",
       "      <th>Helpful</th>\n",
       "      <th></th>\n",
       "      <th></th>\n",
       "      <th></th>\n",
       "      <th></th>\n",
       "      <th></th>\n",
       "      <th></th>\n",
       "      <th></th>\n",
       "      <th></th>\n",
       "      <th></th>\n",
       "      <th></th>\n",
       "    </tr>\n",
       "  </thead>\n",
       "  <tbody>\n",
       "    <tr>\n",
       "      <th>0</th>\n",
       "      <td>4100</td>\n",
       "      <td>4100</td>\n",
       "      <td>4100</td>\n",
       "      <td>4100</td>\n",
       "      <td>4100</td>\n",
       "      <td>4100</td>\n",
       "      <td>4100</td>\n",
       "      <td>4100</td>\n",
       "      <td>4075</td>\n",
       "      <td>4100</td>\n",
       "    </tr>\n",
       "    <tr>\n",
       "      <th>1</th>\n",
       "      <td>17363</td>\n",
       "      <td>17363</td>\n",
       "      <td>17363</td>\n",
       "      <td>17362</td>\n",
       "      <td>17363</td>\n",
       "      <td>17363</td>\n",
       "      <td>17363</td>\n",
       "      <td>17363</td>\n",
       "      <td>17363</td>\n",
       "      <td>17363</td>\n",
       "    </tr>\n",
       "  </tbody>\n",
       "</table>\n",
       "</div>"
      ],
      "text/plain": [
       "            Id  ProductId  UserId  ProfileName  HelpfulnessNumerator  \\\n",
       "Helpful                                                                \n",
       "0         4100       4100    4100         4100                  4100   \n",
       "1        17363      17363   17363        17362                 17363   \n",
       "\n",
       "         HelpfulnessDenominator  Score   Time  Summary   Text  \n",
       "Helpful                                                        \n",
       "0                          4100   4100   4100     4075   4100  \n",
       "1                         17363  17363  17363    17363  17363  "
      ]
     },
     "execution_count": 22,
     "metadata": {},
     "output_type": "execute_result"
    }
   ],
   "source": [
    "\n",
    "df1.groupby('Helpful').count()"
   ]
  },
  {
   "cell_type": "markdown",
   "metadata": {},
   "source": [
    "# Predicting the Helpfulness of Amazon Fine Food Reviews\n",
    "\n",
    "Purpose\n",
    "Build a model to predict the helpfulness of Amazon Fine Food Reviews. This will improve Amazon's selection of helpful reviews at the top of the review section and improve customer's purchasing decisions. It could also help other reviewers as a guide to writing helpful reviews."
   ]
  },
  {
   "cell_type": "markdown",
   "metadata": {},
   "source": [
    "## 1.  Bag of words model"
   ]
  },
  {
   "cell_type": "code",
   "execution_count": 23,
   "metadata": {
    "collapsed": false
   },
   "outputs": [],
   "source": [
    "\n",
    "#make a copy\n",
    "df2 = df1.copy(deep = True)"
   ]
  },
  {
   "cell_type": "code",
   "execution_count": 24,
   "metadata": {
    "collapsed": false
   },
   "outputs": [
    {
     "data": {
      "text/plain": [
       "TfidfVectorizer(analyzer='word', binary=False, decode_error='strict',\n",
       "        dtype=<class 'numpy.int64'>, encoding='utf-8', input='content',\n",
       "        lowercase=True, max_df=0.9, max_features=None, min_df=0.1,\n",
       "        ngram_range=(1, 4), norm='l2', preprocessor=None, smooth_idf=True,\n",
       "        stop_words='english', strip_accents=None, sublinear_tf=False,\n",
       "        token_pattern='(?u)\\\\b\\\\w\\\\w+\\\\b', tokenizer=None, use_idf=True,\n",
       "        vocabulary=None)"
      ]
     },
     "execution_count": 24,
     "metadata": {},
     "output_type": "execute_result"
    }
   ],
   "source": [
    "#tokenize text with Tfidf\n",
    "from sklearn.feature_extraction.text import TfidfVectorizer\n",
    "\n",
    "vectorizer = TfidfVectorizer(min_df = 0.1, max_df=0.9,\n",
    "                             ngram_range=(1, 4), \n",
    "                             stop_words='english')\n",
    "vectorizer.fit(df2['Text'])"
   ]
  },
  {
   "cell_type": "code",
   "execution_count": 25,
   "metadata": {
    "collapsed": true
   },
   "outputs": [],
   "source": [
    "\n",
    "X_train = vectorizer.transform(df2['Text'])\n",
    "vocab = vectorizer.get_feature_names()"
   ]
  },
  {
   "cell_type": "code",
   "execution_count": 26,
   "metadata": {
    "collapsed": false
   },
   "outputs": [
    {
     "name": "stderr",
     "output_type": "stream",
     "text": [
      "C:\\Users\\mahesh\\Miniconda3\\lib\\site-packages\\sklearn\\cross_validation.py:44: DeprecationWarning: This module was deprecated in version 0.18 in favor of the model_selection module into which all the refactored classes and functions are moved. Also note that the interface of the new CV iterators are different from that of this module. This module will be removed in 0.20.\n",
      "  \"This module will be removed in 0.20.\", DeprecationWarning)\n",
      "C:\\Users\\mahesh\\Miniconda3\\lib\\site-packages\\sklearn\\grid_search.py:43: DeprecationWarning: This module was deprecated in version 0.18 in favor of the model_selection module into which all the refactored classes and functions are moved. This module will be removed in 0.20.\n",
      "  DeprecationWarning)\n"
     ]
    },
    {
     "data": {
      "text/plain": [
       "[mean: 0.71938, std: 0.01106, params: {'class_weight': None, 'C': 100000},\n",
       " mean: 0.71991, std: 0.01112, params: {'class_weight': 'balanced', 'C': 100000},\n",
       " mean: 0.71938, std: 0.01106, params: {'class_weight': None, 'C': 10000},\n",
       " mean: 0.71991, std: 0.01112, params: {'class_weight': 'balanced', 'C': 10000},\n",
       " mean: 0.71938, std: 0.01106, params: {'class_weight': None, 'C': 1000},\n",
       " mean: 0.71991, std: 0.01112, params: {'class_weight': 'balanced', 'C': 1000},\n",
       " mean: 0.71938, std: 0.01106, params: {'class_weight': None, 'C': 100},\n",
       " mean: 0.71990, std: 0.01112, params: {'class_weight': 'balanced', 'C': 100},\n",
       " mean: 0.71937, std: 0.01105, params: {'class_weight': None, 'C': 10},\n",
       " mean: 0.71990, std: 0.01113, params: {'class_weight': 'balanced', 'C': 10},\n",
       " mean: 0.71949, std: 0.01114, params: {'class_weight': None, 'C': 1},\n",
       " mean: 0.71994, std: 0.01116, params: {'class_weight': 'balanced', 'C': 1},\n",
       " mean: 0.71917, std: 0.01111, params: {'class_weight': None, 'C': 0.1},\n",
       " mean: 0.71948, std: 0.01127, params: {'class_weight': 'balanced', 'C': 0.1},\n",
       " mean: 0.70410, std: 0.01279, params: {'class_weight': None, 'C': 0.01},\n",
       " mean: 0.70945, std: 0.01227, params: {'class_weight': 'balanced', 'C': 0.01},\n",
       " mean: 0.66503, std: 0.01465, params: {'class_weight': None, 'C': 0.001},\n",
       " mean: 0.67291, std: 0.01445, params: {'class_weight': 'balanced', 'C': 0.001},\n",
       " mean: 0.64224, std: 0.01522, params: {'class_weight': None, 'C': 0.0001},\n",
       " mean: 0.66028, std: 0.01495, params: {'class_weight': 'balanced', 'C': 0.0001}]"
      ]
     },
     "execution_count": 26,
     "metadata": {},
     "output_type": "execute_result"
    }
   ],
   "source": [
    "#find best logistic regression parameters\n",
    "from sklearn import grid_search, cross_validation\n",
    "from sklearn.linear_model import LogisticRegression\n",
    "feature_set = X_train\n",
    "gs = grid_search.GridSearchCV(\n",
    "    estimator=LogisticRegression(),\n",
    "    param_grid={'C': [10**-i for i in range(-5, 5)], 'class_weight': [None, 'balanced']},\n",
    "    cv=cross_validation.StratifiedKFold(df1.Helpful,n_folds=10),\n",
    "    scoring='roc_auc'\n",
    ")\n",
    "\n",
    "\n",
    "gs.fit(X_train, df2.Helpful)\n",
    "gs.grid_scores_"
   ]
  },
  {
   "cell_type": "code",
   "execution_count": 28,
   "metadata": {
    "collapsed": false
   },
   "outputs": [
    {
     "data": {
      "image/png": "[encoded data removed]",
      "text/plain": [
       "<matplotlib.figure.Figure at 0x2449d6249b0>"
      ]
     },
     "metadata": {},
     "output_type": "display_data"
    }
   ],
   "source": [
    "\n",
    "#plot ROC/AUC curve\n",
    "from sklearn.metrics import roc_auc_score, roc_curve\n",
    "actuals = gs.predict(feature_set) \n",
    "probas = gs.predict_proba(feature_set)\n",
    "plt.plot(roc_curve(df2[['Helpful']], probas[:,1])[0], roc_curve(df2[['Helpful']], probas[:,1])[1])\n",
    "plt.show()"
   ]
  },
  {
   "cell_type": "code",
   "execution_count": 29,
   "metadata": {
    "collapsed": false
   },
   "outputs": [
    {
     "data": {
      "text/plain": [
       "0.72341319430299644"
      ]
     },
     "execution_count": 29,
     "metadata": {},
     "output_type": "execute_result"
    }
   ],
   "source": [
    "# ROC/AUC score\n",
    "y_score = probas\n",
    "test2 = np.array(list(df2.Helpful))\n",
    "test2 = test2.reshape(21463,1)\n",
    "y_true = test2\n",
    "roc_auc_score(y_true, y_score[:,1].T)"
   ]
  },
  {
   "cell_type": "markdown",
   "metadata": {},
   "source": [
    "## The Bag of Words model performs poorly with only 72% accuracy."
   ]
  },
  {
   "cell_type": "markdown",
   "metadata": {},
   "source": [
    "# Improving Prediction with K-Means Clustering of Reviews\n"
   ]
  },
  {
   "cell_type": "code",
   "execution_count": 30,
   "metadata": {
    "collapsed": true
   },
   "outputs": [],
   "source": [
    "#Apply TfidfVectorizer to review text\n",
    "from sklearn.feature_extraction.text import TfidfVectorizer\n",
    "from sklearn.cluster import KMeans\n",
    "from sklearn import metrics"
   ]
  },
  {
   "cell_type": "markdown",
   "metadata": {},
   "source": [
    "# 2. K-Means Clustering of Reviews"
   ]
  },
  {
   "cell_type": "code",
   "execution_count": 31,
   "metadata": {
    "collapsed": false
   },
   "outputs": [
    {
     "data": {
      "text/plain": [
       "TfidfVectorizer(analyzer='word', binary=False, decode_error='strict',\n",
       "        dtype=<class 'numpy.int64'>, encoding='utf-8', input='content',\n",
       "        lowercase=True, max_df=0.95, max_features=None, min_df=0.05,\n",
       "        ngram_range=(1, 2), norm='l2', preprocessor=None, smooth_idf=True,\n",
       "        stop_words='english', strip_accents=None, sublinear_tf=False,\n",
       "        token_pattern='(?u)\\\\b\\\\w\\\\w+\\\\b', tokenizer=None, use_idf=True,\n",
       "        vocabulary=None)"
      ]
     },
     "execution_count": 31,
     "metadata": {},
     "output_type": "execute_result"
    }
   ],
   "source": [
    "\n",
    "model = KMeans(n_clusters=4, init='k-means++', max_iter=100, n_init=1,random_state=5)\n",
    "\n",
    "vectorizer = TfidfVectorizer(min_df = 0.05, max_df=0.95,\n",
    "                             ngram_range=(1, 2), \n",
    "                             stop_words='english')\n",
    "vectorizer.fit(df1['Text'])"
   ]
  },
  {
   "cell_type": "code",
   "execution_count": 32,
   "metadata": {
    "collapsed": true
   },
   "outputs": [],
   "source": [
    "\n",
    "X_train = vectorizer.transform(df1['Text'])\n",
    "vocab = vectorizer.get_feature_names()\n",
    "sse_err = []\n",
    "res = model.fit(X_train)\n",
    "vocab = np.array(vocab)\n",
    "cluster_centers = np.array(res.cluster_centers_)\n",
    "sorted_vals = [res.cluster_centers_[i].argsort() for i in range(0,np.shape(res.cluster_centers_)[0])]\n",
    "words=set()\n",
    "for i in range(len(res.cluster_centers_)):\n",
    "    words = words.union(set(vocab[sorted_vals[i][-10:]]))\n",
    "words=list(words)"
   ]
  },
  {
   "cell_type": "code",
   "execution_count": 33,
   "metadata": {
    "collapsed": false
   },
   "outputs": [
    {
     "data": {
      "text/plain": [
       "['great',\n",
       " 'br',\n",
       " 'product',\n",
       " 'tried',\n",
       " 'price',\n",
       " 'food',\n",
       " 'coffee',\n",
       " 'cup',\n",
       " 'like',\n",
       " 'flavor',\n",
       " 'buy',\n",
       " 'good',\n",
       " 'taste',\n",
       " 'bags',\n",
       " 'amazon',\n",
       " 'cups',\n",
       " 'tea',\n",
       " 'drink',\n",
       " 'just',\n",
       " 'br br']"
      ]
     },
     "execution_count": 33,
     "metadata": {},
     "output_type": "execute_result"
    }
   ],
   "source": [
    "#top 10 words for each cluster\n",
    "words"
   ]
  },
  {
   "cell_type": "code",
   "execution_count": 34,
   "metadata": {
    "collapsed": true
   },
   "outputs": [],
   "source": [
    "\n",
    "#add top words to train set\n",
    "train_set=X_train[:,[np.argwhere(vocab==i)[0][0] for i in words]]"
   ]
  },
  {
   "cell_type": "code",
   "execution_count": 36,
   "metadata": {
    "collapsed": false
   },
   "outputs": [
    {
     "data": {
      "text/html": [
       "<div>\n",
       "<table border=\"1\" class=\"dataframe\">\n",
       "  <thead>\n",
       "    <tr style=\"text-align: right;\">\n",
       "      <th></th>\n",
       "      <th>Id</th>\n",
       "      <th>ProductId</th>\n",
       "      <th>UserId</th>\n",
       "      <th>ProfileName</th>\n",
       "      <th>HelpfulnessNumerator</th>\n",
       "      <th>HelpfulnessDenominator</th>\n",
       "      <th>Score</th>\n",
       "      <th>Time</th>\n",
       "      <th>Summary</th>\n",
       "      <th>Text</th>\n",
       "      <th>Helpful</th>\n",
       "    </tr>\n",
       "    <tr>\n",
       "      <th>cluster</th>\n",
       "      <th></th>\n",
       "      <th></th>\n",
       "      <th></th>\n",
       "      <th></th>\n",
       "      <th></th>\n",
       "      <th></th>\n",
       "      <th></th>\n",
       "      <th></th>\n",
       "      <th></th>\n",
       "      <th></th>\n",
       "      <th></th>\n",
       "    </tr>\n",
       "  </thead>\n",
       "  <tbody>\n",
       "    <tr>\n",
       "      <th>0</th>\n",
       "      <td>12653</td>\n",
       "      <td>12653</td>\n",
       "      <td>12653</td>\n",
       "      <td>12652</td>\n",
       "      <td>12653</td>\n",
       "      <td>12653</td>\n",
       "      <td>12653</td>\n",
       "      <td>12653</td>\n",
       "      <td>12653</td>\n",
       "      <td>12653</td>\n",
       "      <td>12653</td>\n",
       "    </tr>\n",
       "    <tr>\n",
       "      <th>1</th>\n",
       "      <td>1179</td>\n",
       "      <td>1179</td>\n",
       "      <td>1179</td>\n",
       "      <td>1179</td>\n",
       "      <td>1179</td>\n",
       "      <td>1179</td>\n",
       "      <td>1179</td>\n",
       "      <td>1179</td>\n",
       "      <td>1154</td>\n",
       "      <td>1179</td>\n",
       "      <td>1179</td>\n",
       "    </tr>\n",
       "    <tr>\n",
       "      <th>2</th>\n",
       "      <td>6021</td>\n",
       "      <td>6021</td>\n",
       "      <td>6021</td>\n",
       "      <td>6021</td>\n",
       "      <td>6021</td>\n",
       "      <td>6021</td>\n",
       "      <td>6021</td>\n",
       "      <td>6021</td>\n",
       "      <td>6021</td>\n",
       "      <td>6021</td>\n",
       "      <td>6021</td>\n",
       "    </tr>\n",
       "    <tr>\n",
       "      <th>3</th>\n",
       "      <td>1610</td>\n",
       "      <td>1610</td>\n",
       "      <td>1610</td>\n",
       "      <td>1610</td>\n",
       "      <td>1610</td>\n",
       "      <td>1610</td>\n",
       "      <td>1610</td>\n",
       "      <td>1610</td>\n",
       "      <td>1610</td>\n",
       "      <td>1610</td>\n",
       "      <td>1610</td>\n",
       "    </tr>\n",
       "  </tbody>\n",
       "</table>\n",
       "</div>"
      ],
      "text/plain": [
       "            Id  ProductId  UserId  ProfileName  HelpfulnessNumerator  \\\n",
       "cluster                                                                \n",
       "0        12653      12653   12653        12652                 12653   \n",
       "1         1179       1179    1179         1179                  1179   \n",
       "2         6021       6021    6021         6021                  6021   \n",
       "3         1610       1610    1610         1610                  1610   \n",
       "\n",
       "         HelpfulnessDenominator  Score   Time  Summary   Text  Helpful  \n",
       "cluster                                                                 \n",
       "0                         12653  12653  12653    12653  12653    12653  \n",
       "1                          1179   1179   1179     1154   1179     1179  \n",
       "2                          6021   6021   6021     6021   6021     6021  \n",
       "3                          1610   1610   1610     1610   1610     1610  "
      ]
     },
     "execution_count": 36,
     "metadata": {},
     "output_type": "execute_result"
    }
   ],
   "source": [
    "# how many observations are in each cluster\n",
    "df1['cluster'] = model.labels_\n",
    "df1.groupby('cluster').count()"
   ]
  },
  {
   "cell_type": "code",
   "execution_count": 37,
   "metadata": {
    "collapsed": false
   },
   "outputs": [
    {
     "data": {
      "text/html": [
       "<div>\n",
       "<table border=\"1\" class=\"dataframe\">\n",
       "  <thead>\n",
       "    <tr style=\"text-align: right;\">\n",
       "      <th></th>\n",
       "      <th>Id</th>\n",
       "      <th>HelpfulnessNumerator</th>\n",
       "      <th>HelpfulnessDenominator</th>\n",
       "      <th>Score</th>\n",
       "      <th>Time</th>\n",
       "      <th>Helpful</th>\n",
       "    </tr>\n",
       "    <tr>\n",
       "      <th>cluster</th>\n",
       "      <th></th>\n",
       "      <th></th>\n",
       "      <th></th>\n",
       "      <th></th>\n",
       "      <th></th>\n",
       "      <th></th>\n",
       "    </tr>\n",
       "  </thead>\n",
       "  <tbody>\n",
       "    <tr>\n",
       "      <th>0</th>\n",
       "      <td>286385.466767</td>\n",
       "      <td>16.309018</td>\n",
       "      <td>21.438394</td>\n",
       "      <td>3.243658</td>\n",
       "      <td>1.249917e+09</td>\n",
       "      <td>0.778472</td>\n",
       "    </tr>\n",
       "    <tr>\n",
       "      <th>1</th>\n",
       "      <td>285864.908397</td>\n",
       "      <td>16.469890</td>\n",
       "      <td>20.156064</td>\n",
       "      <td>3.871077</td>\n",
       "      <td>1.233300e+09</td>\n",
       "      <td>0.840543</td>\n",
       "    </tr>\n",
       "    <tr>\n",
       "      <th>2</th>\n",
       "      <td>285761.001329</td>\n",
       "      <td>24.020429</td>\n",
       "      <td>28.874439</td>\n",
       "      <td>3.538947</td>\n",
       "      <td>1.255138e+09</td>\n",
       "      <td>0.845873</td>\n",
       "    </tr>\n",
       "    <tr>\n",
       "      <th>3</th>\n",
       "      <td>293390.230435</td>\n",
       "      <td>35.873292</td>\n",
       "      <td>39.247826</td>\n",
       "      <td>3.837267</td>\n",
       "      <td>1.265179e+09</td>\n",
       "      <td>0.887578</td>\n",
       "    </tr>\n",
       "  </tbody>\n",
       "</table>\n",
       "</div>"
      ],
      "text/plain": [
       "                    Id  HelpfulnessNumerator  HelpfulnessDenominator  \\\n",
       "cluster                                                                \n",
       "0        286385.466767             16.309018               21.438394   \n",
       "1        285864.908397             16.469890               20.156064   \n",
       "2        285761.001329             24.020429               28.874439   \n",
       "3        293390.230435             35.873292               39.247826   \n",
       "\n",
       "            Score          Time   Helpful  \n",
       "cluster                                    \n",
       "0        3.243658  1.249917e+09  0.778472  \n",
       "1        3.871077  1.233300e+09  0.840543  \n",
       "2        3.538947  1.255138e+09  0.845873  \n",
       "3        3.837267  1.265179e+09  0.887578  "
      ]
     },
     "execution_count": 37,
     "metadata": {},
     "output_type": "execute_result"
    }
   ],
   "source": [
    "\n",
    "# what does each cluster look like\n",
    "df1.groupby('cluster').mean()"
   ]
  },
  {
   "cell_type": "code",
   "execution_count": 38,
   "metadata": {
    "collapsed": false
   },
   "outputs": [
    {
     "data": {
      "text/html": [
       "<div>\n",
       "<table border=\"1\" class=\"dataframe\">\n",
       "  <thead>\n",
       "    <tr style=\"text-align: right;\">\n",
       "      <th></th>\n",
       "      <th>Id</th>\n",
       "      <th>HelpfulnessNumerator</th>\n",
       "      <th>HelpfulnessDenominator</th>\n",
       "      <th>Score</th>\n",
       "      <th>Time</th>\n",
       "      <th>Helpful</th>\n",
       "      <th>cluster</th>\n",
       "    </tr>\n",
       "  </thead>\n",
       "  <tbody>\n",
       "    <tr>\n",
       "      <th>Id</th>\n",
       "      <td>1.000000</td>\n",
       "      <td>0.000854</td>\n",
       "      <td>0.000040</td>\n",
       "      <td>0.003925</td>\n",
       "      <td>-0.010021</td>\n",
       "      <td>0.003544</td>\n",
       "      <td>0.005369</td>\n",
       "    </tr>\n",
       "    <tr>\n",
       "      <th>HelpfulnessNumerator</th>\n",
       "      <td>0.000854</td>\n",
       "      <td>1.000000</td>\n",
       "      <td>0.975746</td>\n",
       "      <td>0.145338</td>\n",
       "      <td>-0.015559</td>\n",
       "      <td>0.228370</td>\n",
       "      <td>0.157978</td>\n",
       "    </tr>\n",
       "    <tr>\n",
       "      <th>HelpfulnessDenominator</th>\n",
       "      <td>0.000040</td>\n",
       "      <td>0.975746</td>\n",
       "      <td>1.000000</td>\n",
       "      <td>0.048775</td>\n",
       "      <td>-0.012100</td>\n",
       "      <td>0.080156</td>\n",
       "      <td>0.143434</td>\n",
       "    </tr>\n",
       "    <tr>\n",
       "      <th>Score</th>\n",
       "      <td>0.003925</td>\n",
       "      <td>0.145338</td>\n",
       "      <td>0.048775</td>\n",
       "      <td>1.000000</td>\n",
       "      <td>-0.221110</td>\n",
       "      <td>0.457537</td>\n",
       "      <td>0.105685</td>\n",
       "    </tr>\n",
       "    <tr>\n",
       "      <th>Time</th>\n",
       "      <td>-0.010021</td>\n",
       "      <td>-0.015559</td>\n",
       "      <td>-0.012100</td>\n",
       "      <td>-0.221110</td>\n",
       "      <td>1.000000</td>\n",
       "      <td>-0.055558</td>\n",
       "      <td>0.066296</td>\n",
       "    </tr>\n",
       "    <tr>\n",
       "      <th>Helpful</th>\n",
       "      <td>0.003544</td>\n",
       "      <td>0.228370</td>\n",
       "      <td>0.080156</td>\n",
       "      <td>0.457537</td>\n",
       "      <td>-0.055558</td>\n",
       "      <td>1.000000</td>\n",
       "      <td>0.095398</td>\n",
       "    </tr>\n",
       "    <tr>\n",
       "      <th>cluster</th>\n",
       "      <td>0.005369</td>\n",
       "      <td>0.157978</td>\n",
       "      <td>0.143434</td>\n",
       "      <td>0.105685</td>\n",
       "      <td>0.066296</td>\n",
       "      <td>0.095398</td>\n",
       "      <td>1.000000</td>\n",
       "    </tr>\n",
       "  </tbody>\n",
       "</table>\n",
       "</div>"
      ],
      "text/plain": [
       "                              Id  HelpfulnessNumerator  \\\n",
       "Id                      1.000000              0.000854   \n",
       "HelpfulnessNumerator    0.000854              1.000000   \n",
       "HelpfulnessDenominator  0.000040              0.975746   \n",
       "Score                   0.003925              0.145338   \n",
       "Time                   -0.010021             -0.015559   \n",
       "Helpful                 0.003544              0.228370   \n",
       "cluster                 0.005369              0.157978   \n",
       "\n",
       "                        HelpfulnessDenominator     Score      Time   Helpful  \\\n",
       "Id                                    0.000040  0.003925 -0.010021  0.003544   \n",
       "HelpfulnessNumerator                  0.975746  0.145338 -0.015559  0.228370   \n",
       "HelpfulnessDenominator                1.000000  0.048775 -0.012100  0.080156   \n",
       "Score                                 0.048775  1.000000 -0.221110  0.457537   \n",
       "Time                                 -0.012100 -0.221110  1.000000 -0.055558   \n",
       "Helpful                               0.080156  0.457537 -0.055558  1.000000   \n",
       "cluster                               0.143434  0.105685  0.066296  0.095398   \n",
       "\n",
       "                         cluster  \n",
       "Id                      0.005369  \n",
       "HelpfulnessNumerator    0.157978  \n",
       "HelpfulnessDenominator  0.143434  \n",
       "Score                   0.105685  \n",
       "Time                    0.066296  \n",
       "Helpful                 0.095398  \n",
       "cluster                 1.000000  "
      ]
     },
     "execution_count": 38,
     "metadata": {},
     "output_type": "execute_result"
    }
   ],
   "source": [
    "\n",
    "# correlation matrix\n",
    "df1.corr()"
   ]
  },
  {
   "cell_type": "markdown",
   "metadata": {},
   "source": [
    "## Logistic Regression to Predict Review Helpfulness with Top Cluster Words\n"
   ]
  },
  {
   "cell_type": "code",
   "execution_count": 39,
   "metadata": {
    "collapsed": false
   },
   "outputs": [
    {
     "name": "stdout",
     "output_type": "stream",
     "text": [
      "(21463, 20)\n"
     ]
    }
   ],
   "source": [
    "\n",
    "print(train_set.shape)"
   ]
  },
  {
   "cell_type": "code",
   "execution_count": 40,
   "metadata": {
    "collapsed": true
   },
   "outputs": [],
   "source": [
    "\n",
    "#add Score column to top words\n",
    "import scipy as scipy\n",
    "\n",
    "score = np.array(list(df1.Score))\n",
    "score = score.reshape(21463, 1)\n",
    "\n",
    "features = scipy.sparse.hstack((train_set,scipy.sparse.csr_matrix(score)))\n",
    "\n",
    "features = scipy.sparse.csr_matrix(features)"
   ]
  },
  {
   "cell_type": "code",
   "execution_count": 41,
   "metadata": {
    "collapsed": false
   },
   "outputs": [
    {
     "data": {
      "text/plain": [
       "(21463, 21)"
      ]
     },
     "execution_count": 41,
     "metadata": {},
     "output_type": "execute_result"
    }
   ],
   "source": [
    "\n",
    "features.shape"
   ]
  },
  {
   "cell_type": "code",
   "execution_count": 42,
   "metadata": {
    "collapsed": false
   },
   "outputs": [
    {
     "data": {
      "text/plain": [
       "[mean: 0.82603, std: 0.01467, params: {'class_weight': None, 'C': 100000},\n",
       " mean: 0.82604, std: 0.01440, params: {'class_weight': 'balanced', 'C': 100000},\n",
       " mean: 0.82603, std: 0.01467, params: {'class_weight': None, 'C': 10000},\n",
       " mean: 0.82604, std: 0.01440, params: {'class_weight': 'balanced', 'C': 10000},\n",
       " mean: 0.82603, std: 0.01467, params: {'class_weight': None, 'C': 1000},\n",
       " mean: 0.82604, std: 0.01440, params: {'class_weight': 'balanced', 'C': 1000},\n",
       " mean: 0.82604, std: 0.01467, params: {'class_weight': None, 'C': 100},\n",
       " mean: 0.82604, std: 0.01440, params: {'class_weight': 'balanced', 'C': 100},\n",
       " mean: 0.82601, std: 0.01467, params: {'class_weight': None, 'C': 10},\n",
       " mean: 0.82604, std: 0.01440, params: {'class_weight': 'balanced', 'C': 10},\n",
       " mean: 0.82578, std: 0.01471, params: {'class_weight': None, 'C': 1},\n",
       " mean: 0.82598, std: 0.01438, params: {'class_weight': 'balanced', 'C': 1},\n",
       " mean: 0.82415, std: 0.01512, params: {'class_weight': None, 'C': 0.1},\n",
       " mean: 0.82492, std: 0.01473, params: {'class_weight': 'balanced', 'C': 0.1},\n",
       " mean: 0.82094, std: 0.01529, params: {'class_weight': None, 'C': 0.01},\n",
       " mean: 0.82110, std: 0.01488, params: {'class_weight': 'balanced', 'C': 0.01},\n",
       " mean: 0.81913, std: 0.01528, params: {'class_weight': None, 'C': 0.001},\n",
       " mean: 0.80827, std: 0.01556, params: {'class_weight': 'balanced', 'C': 0.001},\n",
       " mean: 0.81819, std: 0.01623, params: {'class_weight': None, 'C': 0.0001},\n",
       " mean: 0.80148, std: 0.01641, params: {'class_weight': 'balanced', 'C': 0.0001}]"
      ]
     },
     "execution_count": 42,
     "metadata": {},
     "output_type": "execute_result"
    }
   ],
   "source": [
    "\n",
    "#find best logistic regression parameters\n",
    "from sklearn import grid_search, cross_validation\n",
    "from sklearn.linear_model import LogisticRegression\n",
    "feature_set = features\n",
    "gs = grid_search.GridSearchCV(\n",
    "    estimator=LogisticRegression(),\n",
    "    param_grid={'C': [10**-i for i in range(-5, 5)], 'class_weight': [None, 'balanced']},\n",
    "    cv=cross_validation.StratifiedKFold(df1.Helpful,n_folds=10),\n",
    "    scoring='roc_auc'\n",
    ")\n",
    "\n",
    "\n",
    "gs.fit(features, df1.Helpful)\n",
    "gs.grid_scores_"
   ]
  },
  {
   "cell_type": "code",
   "execution_count": 43,
   "metadata": {
    "collapsed": false
   },
   "outputs": [
    {
     "name": "stdout",
     "output_type": "stream",
     "text": [
      "LogisticRegression(C=10000, class_weight='balanced', dual=False,\n",
      "          fit_intercept=True, intercept_scaling=1, max_iter=100,\n",
      "          multi_class='ovr', n_jobs=1, penalty='l2', random_state=None,\n",
      "          solver='liblinear', tol=0.0001, verbose=0, warm_start=False)\n"
     ]
    }
   ],
   "source": [
    "print(gs.best_estimator_)"
   ]
  },
  {
   "cell_type": "code",
   "execution_count": 44,
   "metadata": {
    "collapsed": true
   },
   "outputs": [],
   "source": [
    "\n",
    "y_pred = gs.predict(feature_set)"
   ]
  },
  {
   "cell_type": "code",
   "execution_count": 45,
   "metadata": {
    "collapsed": false
   },
   "outputs": [
    {
     "name": "stdout",
     "output_type": "stream",
     "text": [
      "[[ 1.30479982 -0.2908615  -0.10621725  0.32669208  1.20554882  1.41706685\n",
      "   0.77525596  1.91792625 -0.26673208  1.57378091 -0.10151496  0.11688436\n",
      "   0.34616558  0.93702072  0.63539321  0.1731905   0.28481941 -1.34654752\n",
      "   0.11149571  2.19661098  0.76754533]]\n",
      "[-2.4734059]\n"
     ]
    }
   ],
   "source": [
    "\n",
    "# Coefficients represent the log-odds\n",
    "print(gs.best_estimator_.coef_)\n",
    "print(gs.best_estimator_.intercept_)"
   ]
  },
  {
   "cell_type": "code",
   "execution_count": 47,
   "metadata": {
    "collapsed": false
   },
   "outputs": [
    {
     "data": {
      "image/png": "[encoded data removed]",
      "text/plain": [
       "<matplotlib.figure.Figure at 0x244941b2cf8>"
      ]
     },
     "metadata": {},
     "output_type": "display_data"
    }
   ],
   "source": [
    "#roc curve\n",
    "from sklearn.metrics import roc_auc_score, roc_curve\n",
    "actuals = gs.predict(feature_set) \n",
    "probas = gs.predict_proba(feature_set)\n",
    "plt.plot(roc_curve(df1[['Helpful']], probas[:,1])[0], roc_curve(df1[['Helpful']], probas[:,1])[1])\n",
    "plt.show()"
   ]
  },
  {
   "cell_type": "code",
   "execution_count": 48,
   "metadata": {
    "collapsed": false
   },
   "outputs": [
    {
     "data": {
      "text/plain": [
       "0.82711888049019289"
      ]
     },
     "execution_count": 48,
     "metadata": {},
     "output_type": "execute_result"
    }
   ],
   "source": [
    "\n",
    "#roc auc score\n",
    "y_score = probas\n",
    "test2 = np.array(list(df1.Helpful))\n",
    "test2 = test2.reshape(21463,1)\n",
    "y_true = test2\n",
    "\n",
    "roc_auc_score(y_true, y_score[:,1].T)"
   ]
  },
  {
   "cell_type": "code",
   "execution_count": 52,
   "metadata": {
    "collapsed": false
   },
   "outputs": [
    {
     "name": "stdout",
     "output_type": "stream",
     "text": [
      "             precision    recall  f1-score   support\n",
      "\n",
      "          0       0.42      0.82      0.55      4100\n",
      "          1       0.94      0.73      0.82     17363\n",
      "\n",
      "avg / total       0.84      0.75      0.77     21463\n",
      "\n"
     ]
    }
   ],
   "source": [
    "from sklearn.metrics import classification_report\n",
    "print(classification_report(y_true, y_pred))\n"
   ]
  },
  {
   "cell_type": "code",
   "execution_count": 49,
   "metadata": {
    "collapsed": false
   },
   "outputs": [
    {
     "name": "stdout",
     "output_type": "stream",
     "text": [
      "Confusion matrix, without normalization\n",
      "[[ 3342   758]\n",
      " [ 4646 12717]]\n",
      "Normalized confusion matrix\n",
      "[[ 0.82  0.18]\n",
      " [ 0.27  0.73]]\n"
     ]
    },
    {
     "data": {
      "image/png": "[encoded data removed]",
      "text/plain": [
       "<matplotlib.figure.Figure at 0x24493648c88>"
      ]
     },
     "metadata": {},
     "output_type": "display_data"
    },
    {
     "data": {
      "image/png": "[encoded data removed]",
      "text/plain": [
       "<matplotlib.figure.Figure at 0x24494010b38>"
      ]
     },
     "metadata": {},
     "output_type": "display_data"
    }
   ],
   "source": [
    "#plot a confusion matrix\n",
    "from sklearn.metrics import confusion_matrix\n",
    "def plot_confusion_matrix(cm, title='Confusion matrix', cmap=plt.cm.Blues):\n",
    "    plt.imshow(cm, interpolation='nearest', cmap=cmap)\n",
    "    plt.title(title)\n",
    "    plt.colorbar()\n",
    "    plt.tight_layout()\n",
    "    plt.ylabel('True Helpfulness')\n",
    "    plt.xlabel('Predicted Helpfulness')\n",
    "\n",
    "\n",
    "# Compute confusion matrix\n",
    "cm = confusion_matrix(y_true, y_pred)\n",
    "np.set_printoptions(precision=2)\n",
    "print('Confusion matrix, without normalization')\n",
    "print(cm)\n",
    "plt.figure()\n",
    "plot_confusion_matrix(cm)\n",
    "\n",
    "# Normalize the confusion matrix by row (i.e by the number of samples\n",
    "# in each class)\n",
    "cm_normalized = cm.astype('float') / cm.sum(axis=1)[:, np.newaxis]\n",
    "print('Normalized confusion matrix')\n",
    "print(cm_normalized)\n",
    "plt.figure()\n",
    "plot_confusion_matrix(cm_normalized, title='Normalized confusion matrix')\n",
    "\n",
    "plt.show()"
   ]
  },
  {
   "cell_type": "code",
   "execution_count": 50,
   "metadata": {
    "collapsed": false
   },
   "outputs": [
    {
     "data": {
      "text/plain": [
       "[('drink', -1.3465475201841786),\n",
       " ('br', -0.29086150403825239),\n",
       " ('like', -0.26673207913639135),\n",
       " ('product', -0.10621724500546934),\n",
       " ('buy', -0.10151495827452782),\n",
       " ('just', 0.11149570699571824),\n",
       " ('good', 0.11688435646711319),\n",
       " ('cups', 0.17319049642855375),\n",
       " ('tea', 0.28481940574322434),\n",
       " ('tried', 0.32669208392946208),\n",
       " ('taste', 0.34616558010986292),\n",
       " ('amazon', 0.63539320832179558),\n",
       " ('score', 0.7675453262214702),\n",
       " ('coffee', 0.77525595704181871),\n",
       " ('bags', 0.9370207150285802),\n",
       " ('price', 1.2055488192692585),\n",
       " ('great', 1.3047998205032945),\n",
       " ('food', 1.4170668457268814),\n",
       " ('flavor', 1.5737809055661804),\n",
       " ('cup', 1.9179262497350158),\n",
       " ('br br', 2.1966109768902853)]"
      ]
     },
     "execution_count": 50,
     "metadata": {},
     "output_type": "execute_result"
    }
   ],
   "source": [
    "#view top parameters\n",
    "words.extend(['score'])\n",
    "sorted(zip(words,gs.best_estimator_.coef_[0]),key=lambda x:x[1])"
   ]
  },
  {
   "cell_type": "markdown",
   "metadata": {},
   "source": [
    "\n",
    "### There seem to be common words that I should remove from the text in further analysis, like food, product, or Amazon. My model is 82% accurate, which is 10% increase in accuracy over the Bag of Words model."
   ]
  },
  {
   "cell_type": "markdown",
   "metadata": {},
   "source": [
    "## Recommendations\n",
    "### Price, Flavor, and Great are the top indicators of a helpful review. This indicates a possible bias among customers to mark a review as helpful when the review is positive. Eating, Like, Don't, Order, Good, and Eat are all negatively correlated with a helpful review, which is difficult to interpret. These may be more common words to remove."
   ]
  },
  {
   "cell_type": "code",
   "execution_count": null,
   "metadata": {
    "collapsed": true
   },
   "outputs": [],
   "source": []
  }
 ],
 "metadata": {
  "kernelspec": {
   "display_name": "Python 3",
   "language": "python",
   "name": "python3"
  },
  "language_info": {
   "codemirror_mode": {
    "name": "ipython",
    "version": 3
   },
   "file_extension": ".py",
   "mimetype": "text/x-python",
   "name": "python",
   "nbconvert_exporter": "python",
   "pygments_lexer": "ipython3",
   "version": "3.5.2"
  }
 },
 "nbformat": 4,
 "nbformat_minor": 2
}
