{
 "cells": [
  {
   "cell_type": "code",
   "execution_count": 1,
   "metadata": {
    "collapsed": false
   },
   "outputs": [
    {
     "name": "stdout",
     "output_type": "stream",
     "text": [
      "Data directory ('.\\data') does not exist - creating it\n"
     ]
    }
   ],
   "source": [
    "# Import the required modules.\n",
    "import gzip\n",
    "import requests\n",
    "import os\n",
    "\n",
    "# URL for the file download.\n",
    "gzip_file_url = \"https://snap.stanford.edu/data/finefoods.txt.gz\"\n",
    "\n",
    "# Paths for the data directory, text file, and compressed file.\n",
    "data_directory = os.path.join('.', 'data')\n",
    "if not os.path.exists(data_directory):\n",
    "    print(\"Data directory ('{}') does not exist - creating it\".format(data_directory))\n",
    "    os.mkdir(data_directory)\n",
    "\n",
    "text_file_path = os.path.join(data_directory, 'finefoods.txt')\n",
    "gzip_file_path = text_file_path + '.gz'"
   ]
  },
  {
   "cell_type": "code",
   "execution_count": 4,
   "metadata": {
    "collapsed": false
   },
   "outputs": [],
   "source": [
    "# Function to download a file from a website.\n",
    "#\n",
    "# Assumes that the file is large and should be downloaded as a stream.\n",
    "#\n",
    "# url - URL to the file\n",
    "# save_file_path - local path where the file should be saved\n",
    "# chunk_size - size of the chunks to use when saving the streamed bytes to a file; default = 8KiB\n",
    "#\n",
    "# returns - None\n",
    "def download_data_file(url, save_file_path, chunk_size=8192):\n",
    "    # Request the file as a stream.\n",
    "    response = requests.get(url, stream=True)\n",
    "\n",
    "    # Save the data to the given file_path.\n",
    "    with open(save_file_path, 'wb') as fd:\n",
    "        for chunk in response.iter_content(chunk_size=chunk_size):\n",
    "            fd.write(chunk)\n",
    "            \n",
    "    return None\n",
    "\n",
    "\n",
    "# Function to decompress a gzipped data file.\n",
    "#\n",
    "# text_file - path to the decompressed file; will be created\n",
    "# gzip_file - path to the gzipped file; must already exist\n",
    "#\n",
    "# returns - None\n",
    "def decompress_data_file(text_file, gzip_file):\n",
    "    with gzip.open(gzip_file, 'rb') as infile:\n",
    "        #gz_content = infile.read()\n",
    "        #text_content = str(gz_content)\n",
    "        with open(text_file, 'wb') as outfile:\n",
    "            outfile.write(infile.read())\n",
    "            \n",
    "    return None\n",
    "\n",
    "\n",
    "# Function to get the decompressed data file.\n",
    "#\n",
    "# Does nothing if the data file already exists.\n",
    "# If the data file doesn't exist, but the compressed data file does, then it decompresses the compressed file.\n",
    "# If the compressed data file doesn't exist, then it downloads and decompresses the data file.\n",
    "#\n",
    "# text_file - path to the decompressed file; will be created if it doesn't already exist\n",
    "# gzip_file - path to the gzipped file; will be downloaded if it doesn't already exist\n",
    "#\n",
    "# returns - None\n",
    "def get_data_file(text_file, gzip_file):\n",
    "    if os.path.exists(text_file):\n",
    "        print(\"Decompressed file ('{}') already exists\".format(text_file))\n",
    "    else:\n",
    "        print(\"Decompressed file ('{}') does not exist\".format(text_file))\n",
    "        \n",
    "        # To get the decompressed file, we need the gzipped file.\n",
    "        if not os.path.exists(gzip_file):\n",
    "            print(\"Compressed data file ('{}') does not exist, downloading...\".format(gzip_file))\n",
    "            download_data_file(gzip_file_url, gzip_file)\n",
    "            print(\"...download finished\")\n",
    "\n",
    "        print(\"Compressed data file ('{}') exists, decompressing\".format(gzip_file))\n",
    "        decompress_data_file(text_file, gzip_file)\n",
    "\n",
    "    \n",
    "    return None"
   ]
  },
  {
   "cell_type": "code",
   "execution_count": 5,
   "metadata": {
    "collapsed": false
   },
   "outputs": [
    {
     "name": "stdout",
     "output_type": "stream",
     "text": [
      "Decompressed file ('.\\data\\finefoods.txt') already exists\n"
     ]
    }
   ],
   "source": [
    "get_data_file(text_file_path, gzip_file_path)"
   ]
  }
 ],
 "metadata": {
  "anaconda-cloud": {},
  "kernelspec": {
   "display_name": "Python [default]",
   "language": "python",
   "name": "python3"
  },
  "language_info": {
   "codemirror_mode": {
    "name": "ipython",
    "version": 3
   },
   "file_extension": ".py",
   "mimetype": "text/x-python",
   "name": "python",
   "nbconvert_exporter": "python",
   "pygments_lexer": "ipython3",
   "version": "3.5.2"
  }
 },
 "nbformat": 4,
 "nbformat_minor": 2
}
