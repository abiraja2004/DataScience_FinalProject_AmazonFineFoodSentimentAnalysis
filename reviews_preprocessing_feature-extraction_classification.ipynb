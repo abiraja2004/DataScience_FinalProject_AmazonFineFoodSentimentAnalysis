{
 "cells": [
  {
   "cell_type": "code",
   "execution_count": 1,
   "metadata": {
    "collapsed": false
   },
   "outputs": [
    {
     "name": "stderr",
     "output_type": "stream",
     "text": [
      "C:\\Users\\Admin\\Anaconda3\\lib\\site-packages\\sklearn\\cross_validation.py:44: DeprecationWarning: This module was deprecated in version 0.18 in favor of the model_selection module into which all the refactored classes and functions are moved. Also note that the interface of the new CV iterators are different from that of this module. This module will be removed in 0.20.\n",
      "  \"This module will be removed in 0.20.\", DeprecationWarning)\n"
     ]
    }
   ],
   "source": [
    "%matplotlib inline\n",
    "\n",
    "import pandas as pd\n",
    "import numpy as np\n",
    "import nltk\n",
    "import string\n",
    "import matplotlib.pyplot as plt\n",
    "import seaborn as sns\n",
    "import numpy as np\n",
    "import scipy.sparse as sparse\n",
    "\n",
    "from sklearn.feature_extraction.text import TfidfTransformer\n",
    "from sklearn.feature_extraction.text import CountVectorizer\n",
    "from sklearn.cross_validation import train_test_split\n",
    "from sklearn.metrics import confusion_matrix\n",
    "from sklearn import metrics\n",
    "from nltk.corpus import stopwords\n",
    "from sklearn.cross_validation import StratifiedKFold\n",
    "from sklearn.naive_bayes import BernoulliNB\n",
    "from sklearn.naive_bayes import MultinomialNB\n",
    "from sklearn import linear_model\n",
    "from sklearn.tree import DecisionTreeClassifier\n",
    "from sklearn.decomposition import TruncatedSVD\n",
    "from sklearn.metrics import recall_score"
   ]
  },
  {
   "cell_type": "markdown",
   "metadata": {},
   "source": [
    "### Reading data into dataframe"
   ]
  },
  {
   "cell_type": "code",
   "execution_count": 2,
   "metadata": {
    "collapsed": false
   },
   "outputs": [],
   "source": [
    "reviews=pd.read_csv(\"data/Reviews.csv\",encoding='latin-1')"
   ]
  },
  {
   "cell_type": "code",
   "execution_count": 3,
   "metadata": {
    "collapsed": false
   },
   "outputs": [
    {
     "name": "stdout",
     "output_type": "stream",
     "text": [
      "(568454, 10)\n"
     ]
    }
   ],
   "source": [
    "# checking shape of reviews dataframe\n",
    "print(reviews.shape)"
   ]
  },
  {
   "cell_type": "code",
   "execution_count": 4,
   "metadata": {
    "collapsed": true
   },
   "outputs": [],
   "source": [
    "# drop NA's from datframe column values\n",
    "reviews = reviews.dropna()"
   ]
  },
  {
   "cell_type": "code",
   "execution_count": 5,
   "metadata": {
    "collapsed": false
   },
   "outputs": [
    {
     "name": "stdout",
     "output_type": "stream",
     "text": [
      "(568412, 10)\n"
     ]
    }
   ],
   "source": [
    "# recheck shape of dataframe\n",
    "print (reviews.shape)"
   ]
  },
  {
   "cell_type": "code",
   "execution_count": 6,
   "metadata": {
    "collapsed": false
   },
   "outputs": [
    {
     "name": "stdout",
     "output_type": "stream",
     "text": [
      "    productId          userId                      profileName  score  \\\n",
      "0  B001E4KFG0  A3SGXH7AUHU8GW                       delmartian      5   \n",
      "1  B00813GRG4  A1D87F6ZCVE5NK                           dll pa      1   \n",
      "2  B000LQOCH0   ABXLMWJIXXAIN  Natalia Corres \"Natalia Corres\"      4   \n",
      "3  B000UA0QIQ  A395BORC6FGVXV                             Karl      2   \n",
      "4  B006K2ZZ7K  A1UQRSCLF8GW1T    Michael D. Bigham \"M. Wassir\"      5   \n",
      "\n",
      "         time                summary  \\\n",
      "0  1303862400  Good Quality Dog Food   \n",
      "1  1346976000      Not as Advertised   \n",
      "2  1219017600  \"Delight\" says it all   \n",
      "3  1307923200         Cough Medicine   \n",
      "4  1350777600            Great taffy   \n",
      "\n",
      "                                                text  helpfulness_numerator  \\\n",
      "0  I have bought several of the Vitality canned d...                      1   \n",
      "1  Product arrived labeled as Jumbo Salted Peanut...                      0   \n",
      "2  This is a confection that has been around a fe...                      1   \n",
      "3  If you are looking for the secret ingredient i...                      3   \n",
      "4  Great taffy at a great price.  There was a wid...                      0   \n",
      "\n",
      "   helpfulness_denominator        date  \n",
      "0                        1  2011-04-27  \n",
      "1                        0  2012-09-07  \n",
      "2                        1  2008-08-18  \n",
      "3                        3  2011-06-13  \n",
      "4                        0  2012-10-21  \n"
     ]
    }
   ],
   "source": [
    "# check \n",
    "print (reviews.head(5))"
   ]
  },
  {
   "cell_type": "code",
   "execution_count": 7,
   "metadata": {
    "collapsed": false
   },
   "outputs": [
    {
     "data": {
      "text/plain": [
       "<matplotlib.axes._subplots.AxesSubplot at 0x107c1b0a90>"
      ]
     },
     "execution_count": 7,
     "metadata": {},
     "output_type": "execute_result"
    },
    {
     "data": {
      "image/png": "[encoded data removed]",
      "text/plain": [
       "<matplotlib.figure.Figure at 0x107c1b0d30>"
      ]
     },
     "metadata": {},
     "output_type": "display_data"
    }
   ],
   "source": [
    "reviews['score'].value_counts().plot(kind='bar',color='rmycg')"
   ]
  },
  {
   "cell_type": "code",
   "execution_count": 8,
   "metadata": {
    "collapsed": false
   },
   "outputs": [
    {
     "data": {
      "text/plain": [
       "5    363111\n",
       "4     80655\n",
       "1     52264\n",
       "3     42639\n",
       "2     29743\n",
       "Name: score, dtype: int64"
      ]
     },
     "execution_count": 8,
     "metadata": {},
     "output_type": "execute_result"
    }
   ],
   "source": [
    "reviews['score'].value_counts()"
   ]
  },
  {
   "cell_type": "code",
   "execution_count": 9,
   "metadata": {
    "collapsed": false
   },
   "outputs": [
    {
     "data": {
      "text/html": [
       "<div>\n",
       "<table border=\"1\" class=\"dataframe\">\n",
       "  <thead>\n",
       "    <tr style=\"text-align: right;\">\n",
       "      <th></th>\n",
       "      <th>productId</th>\n",
       "      <th>userId</th>\n",
       "      <th>profileName</th>\n",
       "      <th>score</th>\n",
       "      <th>time</th>\n",
       "      <th>summary</th>\n",
       "      <th>text</th>\n",
       "      <th>helpfulness_numerator</th>\n",
       "      <th>helpfulness_denominator</th>\n",
       "      <th>date</th>\n",
       "      <th>sentiment</th>\n",
       "    </tr>\n",
       "  </thead>\n",
       "  <tbody>\n",
       "    <tr>\n",
       "      <th>0</th>\n",
       "      <td>B001E4KFG0</td>\n",
       "      <td>A3SGXH7AUHU8GW</td>\n",
       "      <td>delmartian</td>\n",
       "      <td>5</td>\n",
       "      <td>1303862400</td>\n",
       "      <td>Good Quality Dog Food</td>\n",
       "      <td>I have bought several of the Vitality canned d...</td>\n",
       "      <td>1</td>\n",
       "      <td>1</td>\n",
       "      <td>2011-04-27</td>\n",
       "      <td>True</td>\n",
       "    </tr>\n",
       "    <tr>\n",
       "      <th>1</th>\n",
       "      <td>B00813GRG4</td>\n",
       "      <td>A1D87F6ZCVE5NK</td>\n",
       "      <td>dll pa</td>\n",
       "      <td>1</td>\n",
       "      <td>1346976000</td>\n",
       "      <td>Not as Advertised</td>\n",
       "      <td>Product arrived labeled as Jumbo Salted Peanut...</td>\n",
       "      <td>0</td>\n",
       "      <td>0</td>\n",
       "      <td>2012-09-07</td>\n",
       "      <td>False</td>\n",
       "    </tr>\n",
       "    <tr>\n",
       "      <th>2</th>\n",
       "      <td>B000LQOCH0</td>\n",
       "      <td>ABXLMWJIXXAIN</td>\n",
       "      <td>Natalia Corres \"Natalia Corres\"</td>\n",
       "      <td>4</td>\n",
       "      <td>1219017600</td>\n",
       "      <td>\"Delight\" says it all</td>\n",
       "      <td>This is a confection that has been around a fe...</td>\n",
       "      <td>1</td>\n",
       "      <td>1</td>\n",
       "      <td>2008-08-18</td>\n",
       "      <td>True</td>\n",
       "    </tr>\n",
       "    <tr>\n",
       "      <th>3</th>\n",
       "      <td>B000UA0QIQ</td>\n",
       "      <td>A395BORC6FGVXV</td>\n",
       "      <td>Karl</td>\n",
       "      <td>2</td>\n",
       "      <td>1307923200</td>\n",
       "      <td>Cough Medicine</td>\n",
       "      <td>If you are looking for the secret ingredient i...</td>\n",
       "      <td>3</td>\n",
       "      <td>3</td>\n",
       "      <td>2011-06-13</td>\n",
       "      <td>False</td>\n",
       "    </tr>\n",
       "    <tr>\n",
       "      <th>4</th>\n",
       "      <td>B006K2ZZ7K</td>\n",
       "      <td>A1UQRSCLF8GW1T</td>\n",
       "      <td>Michael D. Bigham \"M. Wassir\"</td>\n",
       "      <td>5</td>\n",
       "      <td>1350777600</td>\n",
       "      <td>Great taffy</td>\n",
       "      <td>Great taffy at a great price.  There was a wid...</td>\n",
       "      <td>0</td>\n",
       "      <td>0</td>\n",
       "      <td>2012-10-21</td>\n",
       "      <td>True</td>\n",
       "    </tr>\n",
       "  </tbody>\n",
       "</table>\n",
       "</div>"
      ],
      "text/plain": [
       "    productId          userId                      profileName  score  \\\n",
       "0  B001E4KFG0  A3SGXH7AUHU8GW                       delmartian      5   \n",
       "1  B00813GRG4  A1D87F6ZCVE5NK                           dll pa      1   \n",
       "2  B000LQOCH0   ABXLMWJIXXAIN  Natalia Corres \"Natalia Corres\"      4   \n",
       "3  B000UA0QIQ  A395BORC6FGVXV                             Karl      2   \n",
       "4  B006K2ZZ7K  A1UQRSCLF8GW1T    Michael D. Bigham \"M. Wassir\"      5   \n",
       "\n",
       "         time                summary  \\\n",
       "0  1303862400  Good Quality Dog Food   \n",
       "1  1346976000      Not as Advertised   \n",
       "2  1219017600  \"Delight\" says it all   \n",
       "3  1307923200         Cough Medicine   \n",
       "4  1350777600            Great taffy   \n",
       "\n",
       "                                                text  helpfulness_numerator  \\\n",
       "0  I have bought several of the Vitality canned d...                      1   \n",
       "1  Product arrived labeled as Jumbo Salted Peanut...                      0   \n",
       "2  This is a confection that has been around a fe...                      1   \n",
       "3  If you are looking for the secret ingredient i...                      3   \n",
       "4  Great taffy at a great price.  There was a wid...                      0   \n",
       "\n",
       "   helpfulness_denominator        date sentiment  \n",
       "0                        1  2011-04-27      True  \n",
       "1                        0  2012-09-07     False  \n",
       "2                        1  2008-08-18      True  \n",
       "3                        3  2011-06-13     False  \n",
       "4                        0  2012-10-21      True  "
      ]
     },
     "execution_count": 9,
     "metadata": {},
     "output_type": "execute_result"
    }
   ],
   "source": [
    "reviews['sentiment']=reviews['score'] > 3\n",
    "reviews.head(5)"
   ]
  },
  {
   "cell_type": "code",
   "execution_count": 10,
   "metadata": {
    "collapsed": false
   },
   "outputs": [],
   "source": [
    "reviews.to_csv(\"updated.csv\")"
   ]
  },
  {
   "cell_type": "markdown",
   "metadata": {},
   "source": [
    "### Distribution of labels in the dataset"
   ]
  },
  {
   "cell_type": "code",
   "execution_count": 11,
   "metadata": {
    "collapsed": false
   },
   "outputs": [
    {
     "data": {
      "text/plain": [
       "sentiment\n",
       "False    124646\n",
       "True     443766\n",
       "Name: summary, dtype: int64"
      ]
     },
     "execution_count": 11,
     "metadata": {},
     "output_type": "execute_result"
    }
   ],
   "source": [
    "reviews.groupby('sentiment')['summary'].count()"
   ]
  },
  {
   "cell_type": "code",
   "execution_count": 12,
   "metadata": {
    "collapsed": false
   },
   "outputs": [
    {
     "data": {
      "text/plain": [
       "<matplotlib.axes._subplots.AxesSubplot at 0x10003cc5c0>"
      ]
     },
     "execution_count": 12,
     "metadata": {},
     "output_type": "execute_result"
    },
    {
     "data": {
      "image/png": "[encoded data removed]",
      "text/plain": [
       "<matplotlib.figure.Figure at 0x10003e3e48>"
      ]
     },
     "metadata": {},
     "output_type": "display_data"
    }
   ],
   "source": [
    "reviews.groupby('sentiment')['summary'].count().plot(kind='bar',color=['m','y'],title='Label Distribution',figsize=(10,6))"
   ]
  },
  {
   "cell_type": "markdown",
   "metadata": {},
   "source": [
    "### Encoding score to Positive or negative based on value of each sample"
   ]
  },
  {
   "cell_type": "code",
   "execution_count": 13,
   "metadata": {
    "collapsed": true
   },
   "outputs": [],
   "source": [
    "scores = reviews['score']\n",
    "reviews['score'] = reviews['score'].apply(lambda x : 'positive' if x > 3 else 'negative')"
   ]
  },
  {
   "cell_type": "code",
   "execution_count": 14,
   "metadata": {
    "collapsed": false
   },
   "outputs": [
    {
     "data": {
      "text/plain": [
       "4.183307178595808"
      ]
     },
     "execution_count": 14,
     "metadata": {},
     "output_type": "execute_result"
    }
   ],
   "source": [
    "scores.mean()"
   ]
  },
  {
   "cell_type": "code",
   "execution_count": 15,
   "metadata": {
    "collapsed": false
   },
   "outputs": [
    {
     "data": {
      "text/plain": [
       "score\n",
       "negative    124646\n",
       "positive    443766\n",
       "Name: summary, dtype: int64"
      ]
     },
     "execution_count": 15,
     "metadata": {},
     "output_type": "execute_result"
    }
   ],
   "source": [
    "reviews.groupby('score')['summary'].count()"
   ]
  },
  {
   "cell_type": "code",
   "execution_count": 16,
   "metadata": {
    "collapsed": false
   },
   "outputs": [
    {
     "data": {
      "text/plain": [
       "<matplotlib.axes._subplots.AxesSubplot at 0x10004314e0>"
      ]
     },
     "execution_count": 16,
     "metadata": {},
     "output_type": "execute_result"
    },
    {
     "data": {
      "image/png": "[encoded data removed]",
      "text/plain": [
       "<matplotlib.figure.Figure at 0x1000436080>"
      ]
     },
     "metadata": {},
     "output_type": "display_data"
    }
   ],
   "source": [
    "reviews.groupby('score')['summary'].count().plot(kind='bar',color=['m','y'],title='Label Distribution',figsize=(10,6))"
   ]
  },
  {
   "cell_type": "code",
   "execution_count": 17,
   "metadata": {
    "collapsed": false
   },
   "outputs": [
    {
     "name": "stdout",
     "output_type": "stream",
     "text": [
      "Percentage of negative reviews 21.93 %\n",
      "Percentage of positive reviews 78.07 %\n"
     ]
    }
   ],
   "source": [
    "print ('Percentage of negative reviews %.2f %%' % ((reviews.groupby('score')['summary'].count()['negative'])*100.0/len(reviews)))\n",
    "print ('Percentage of positive reviews %.2f %%' % ((reviews.groupby('score')['summary'].count()['positive'])*100.0/len(reviews)))"
   ]
  },
  {
   "cell_type": "markdown",
   "metadata": {},
   "source": [
    "### Splitting the dataset based on labels"
   ]
  },
  {
   "cell_type": "code",
   "execution_count": 18,
   "metadata": {
    "collapsed": true
   },
   "outputs": [],
   "source": [
    "def splitPosNeg(Summaries):\n",
    "    negative = reviews.loc[Summaries['score']=='negative']\n",
    "    positive = reviews.loc[Summaries['score']=='positive']\n",
    "    return [positive,negative]"
   ]
  },
  {
   "cell_type": "code",
   "execution_count": 19,
   "metadata": {
    "collapsed": false
   },
   "outputs": [],
   "source": [
    "[positive,negative] = splitPosNeg(reviews)"
   ]
  },
  {
   "cell_type": "markdown",
   "metadata": {},
   "source": [
    "### Preprocessing"
   ]
  },
  {
   "cell_type": "markdown",
   "metadata": {},
   "source": [
    "#### Using lemmatization as it was giving better results than stemming. Other steps include removing punctuation amd upper case to lower case conversion."
   ]
  },
  {
   "cell_type": "code",
   "execution_count": 20,
   "metadata": {
    "collapsed": true
   },
   "outputs": [],
   "source": [
    "#preprocessing steps\n",
    "\n",
    "#stemmer = PorterStemmer()\n",
    "lemmatizer = nltk.WordNetLemmatizer()\n",
    "stop = stopwords.words('english')\n",
    "translation = str.maketrans(string.punctuation,' '*len(string.punctuation))\n",
    "\n",
    "def preprocessing(line):\n",
    "    tokens=[]\n",
    "    line = line.translate(translation)\n",
    "    line = nltk.word_tokenize(line.lower())\n",
    "    for t in line:\n",
    "        #if(t not in stop):\n",
    "            #stemmed = stemmer.stem(t)\n",
    "        stemmed = lemmatizer.lemmatize(t)\n",
    "        tokens.append(stemmed)\n",
    "    return ' '.join(tokens)"
   ]
  },
  {
   "cell_type": "code",
   "execution_count": 21,
   "metadata": {
    "collapsed": false
   },
   "outputs": [],
   "source": [
    "pos_data = []\n",
    "neg_data = []\n",
    "for p in positive['summary']:\n",
    "    pos_data.append(preprocessing(p))\n",
    "\n",
    "for n in negative['summary']:\n",
    "    neg_data.append(preprocessing(n))"
   ]
  },
  {
   "cell_type": "code",
   "execution_count": 22,
   "metadata": {
    "collapsed": false
   },
   "outputs": [],
   "source": [
    "data = pos_data + neg_data\n",
    "labels = np.concatenate((positive['score'].values,negative['score'].values))"
   ]
  },
  {
   "cell_type": "markdown",
   "metadata": {},
   "source": [
    "### Splitting the data into train and test using a stratified strategy"
   ]
  },
  {
   "cell_type": "code",
   "execution_count": 23,
   "metadata": {
    "collapsed": true
   },
   "outputs": [],
   "source": [
    "\n",
    "[Data_train,Data_test,Train_labels,Test_labels] = train_test_split(data,labels , test_size=0.25, random_state=20160121,stratify=labels)"
   ]
  },
  {
   "cell_type": "markdown",
   "metadata": {},
   "source": [
    "#### tokenizing the training data to find frequency of words"
   ]
  },
  {
   "cell_type": "code",
   "execution_count": 24,
   "metadata": {
    "collapsed": true
   },
   "outputs": [],
   "source": [
    "t = []\n",
    "for line in Data_train:\n",
    "    l = nltk.word_tokenize(line)\n",
    "    for w in l:\n",
    "        t.append(w)"
   ]
  },
  {
   "cell_type": "code",
   "execution_count": 25,
   "metadata": {
    "collapsed": false
   },
   "outputs": [
    {
     "name": "stdout",
     "output_type": "stream",
     "text": [
      "27084\n"
     ]
    }
   ],
   "source": [
    "word_features = nltk.FreqDist(t)\n",
    "print (len(word_features))"
   ]
  },
  {
   "cell_type": "markdown",
   "metadata": {},
   "source": [
    "* We can see that the number of unique words in the dataset is pretty huge. When doing text classification the vocabulary of the data set becomes the featureset.\n",
    "* We would want to reduce the size of this feature set. This can be done in severals ways.\n",
    "* One of them is feature reduction using PCA."
   ]
  },
  {
   "cell_type": "markdown",
   "metadata": {},
   "source": [
    "### Feature Reduction"
   ]
  },
  {
   "cell_type": "markdown",
   "metadata": {},
   "source": [
    "#### Using PCA (principal component analysis)"
   ]
  },
  {
   "cell_type": "code",
   "execution_count": 26,
   "metadata": {
    "collapsed": true
   },
   "outputs": [],
   "source": [
    "vec_all = CountVectorizer()\n",
    "ctr_features_all = vec_all.fit_transform(Data_train)"
   ]
  },
  {
   "cell_type": "code",
   "execution_count": 27,
   "metadata": {
    "collapsed": true
   },
   "outputs": [],
   "source": [
    "tf_vec_all = TfidfTransformer()\n",
    "tr_features_all = tf_vec_all.fit_transform(ctr_features_all)"
   ]
  },
  {
   "cell_type": "code",
   "execution_count": 28,
   "metadata": {
    "collapsed": true
   },
   "outputs": [],
   "source": [
    "cte_features_all = vec_all.transform(Data_test)\n",
    "te_features_all = tf_vec_all.transform(cte_features_all)"
   ]
  },
  {
   "cell_type": "markdown",
   "metadata": {},
   "source": [
    "#### Pca doesn't apply to sparse matrices so we use a different version of PCA called Truncated SVD"
   ]
  },
  {
   "cell_type": "code",
   "execution_count": 29,
   "metadata": {
    "collapsed": true
   },
   "outputs": [],
   "source": [
    "svd = TruncatedSVD(n_components=200)\n",
    "tr_features_truncated = svd.fit_transform(tr_features_all)"
   ]
  },
  {
   "cell_type": "code",
   "execution_count": 30,
   "metadata": {
    "collapsed": true
   },
   "outputs": [],
   "source": [
    "te_features_truncated = svd.transform(te_features_all)"
   ]
  },
  {
   "cell_type": "code",
   "execution_count": 31,
   "metadata": {
    "collapsed": true
   },
   "outputs": [],
   "source": [
    "svd = TruncatedSVD(n_components=200)\n",
    "ctr_features_truncated = svd.fit_transform(ctr_features_all)\n",
    "cte_features_truncated = svd.transform(cte_features_all)"
   ]
  },
  {
   "cell_type": "markdown",
   "metadata": {},
   "source": [
    "### Running 3 classification algorithms : Naive Bayes, Logistic Regression, Decision Trees"
   ]
  },
  {
   "cell_type": "code",
   "execution_count": 32,
   "metadata": {
    "collapsed": true
   },
   "outputs": [],
   "source": [
    "models = {'BernoulliNB':BernoulliNB(binarize=0.5)\n",
    "          ,'Logistic' : linear_model.LogisticRegression(C=1e5),'Decision Tree' : DecisionTreeClassifier(random_state=20160121, criterion='entropy')}"
   ]
  },
  {
   "cell_type": "code",
   "execution_count": 33,
   "metadata": {
    "collapsed": false
   },
   "outputs": [
    {
     "name": "stdout",
     "output_type": "stream",
     "text": [
      "           Model  TF-IDF Accuracy\n",
      "0       Logistic         0.844739\n",
      "1  Decision Tree         0.862248\n",
      "2    BernoulliNB         0.794452\n"
     ]
    }
   ],
   "source": [
    "results_svd = pd.DataFrame()\n",
    "\n",
    "foldnum = 0\n",
    "tfprediction = {}\n",
    "cprediction = {}\n",
    "for name,model in models.items():\n",
    "        model.fit(tr_features_truncated, Train_labels)\n",
    "        tfprediction[name] = model.predict(te_features_truncated)\n",
    "        tfaccuracy = metrics.accuracy_score(tfprediction[name],Test_labels)\n",
    "        \n",
    "        #model.fit(ctr_features_truncated,Train_labels)\n",
    "        #cprediction[name] = model.predict(cte_features_truncated)\n",
    "        #caccuracy = metrics.accuracy_score(cprediction[name],Test_labels)\n",
    "\n",
    "        results_svd.loc[foldnum,'Model']=name\n",
    "        results_svd.loc[foldnum,'TF-IDF Accuracy']=tfaccuracy\n",
    "        #results_svd.loc[foldnum,'Count Accuracy']=caccuracy\n",
    "        foldnum = foldnum+1\n",
    "print (results_svd)"
   ]
  },
  {
   "cell_type": "code",
   "execution_count": 34,
   "metadata": {
    "collapsed": false
   },
   "outputs": [
    {
     "name": "stdout",
     "output_type": "stream",
     "text": [
      "Classification report for  Logistic\n",
      "             precision    recall  f1-score   support\n",
      "\n",
      "   negative       0.77      0.42      0.54     31162\n",
      "   positive       0.86      0.96      0.91    110941\n",
      "\n",
      "avg / total       0.84      0.84      0.83    142103\n",
      "\n",
      "\n",
      "\n",
      "Classification report for  Decision Tree\n",
      "             precision    recall  f1-score   support\n",
      "\n",
      "   negative       0.69      0.69      0.69     31162\n",
      "   positive       0.91      0.91      0.91    110941\n",
      "\n",
      "avg / total       0.86      0.86      0.86    142103\n",
      "\n",
      "\n",
      "\n",
      "Classification report for  BernoulliNB\n",
      "             precision    recall  f1-score   support\n",
      "\n",
      "   negative       0.90      0.07      0.13     31162\n",
      "   positive       0.79      1.00      0.88    110941\n",
      "\n",
      "avg / total       0.82      0.79      0.72    142103\n",
      "\n",
      "\n",
      "\n"
     ]
    }
   ],
   "source": [
    "for name,model in models.items():\n",
    "    print (\"Classification report for \",name)\n",
    "    print(metrics.classification_report(Test_labels, tfprediction[name]))\n",
    "    print(\"\\n\")"
   ]
  },
  {
   "cell_type": "code",
   "execution_count": 35,
   "metadata": {
    "collapsed": false
   },
   "outputs": [
    {
     "data": {
      "text/plain": [
       "<matplotlib.axes._subplots.AxesSubplot at 0x1013b54518>"
      ]
     },
     "execution_count": 35,
     "metadata": {},
     "output_type": "execute_result"
    },
    {
     "data": {
      "image/png": "[encoded data removed]",
      "text/plain": [
       "<matplotlib.figure.Figure at 0x10004cfc18>"
      ]
     },
     "metadata": {},
     "output_type": "display_data"
    }
   ],
   "source": [
    "results_svd.plot(kind='bar',color=['g','c','r'],title='Model Performance',figsize=(10,6),x='Model',legend=False)"
   ]
  },
  {
   "cell_type": "code",
   "execution_count": 36,
   "metadata": {
    "collapsed": false
   },
   "outputs": [],
   "source": [
    "## comparing negative samples accuracies\n",
    "negcom = pd.DataFrame()\n",
    "for name,model in models.items():\n",
    "    p= recall_score(Test_labels,tfprediction[name],pos_label='negative')\n",
    "    negcom.loc[name,'recall'] = p"
   ]
  },
  {
   "cell_type": "code",
   "execution_count": 37,
   "metadata": {
    "collapsed": false
   },
   "outputs": [
    {
     "data": {
      "image/png": "[encoded data removed]",
      "text/plain": [
       "<matplotlib.figure.Figure at 0x10144b0d68>"
      ]
     },
     "metadata": {},
     "output_type": "display_data"
    }
   ],
   "source": [
    "pl = negcom.plot(kind='bar',color=['b','y','g'],title='Using PCA',figsize=(10,6),legend=False)\n",
    "pl.set(xlabel='Models',ylabel='Recall for negative samples')\n",
    "lim = plt.ylim([0,1])"
   ]
  },
  {
   "cell_type": "markdown",
   "metadata": {},
   "source": [
    "#### The performance seems to be okay but we can try improving it further\n",
    "* Another way to reduce feature set is to have better feature selection. We can use the most frequent 5000 features as the featureset"
   ]
  },
  {
   "cell_type": "markdown",
   "metadata": {},
   "source": [
    "### Feature selection"
   ]
  },
  {
   "cell_type": "code",
   "execution_count": 38,
   "metadata": {
    "collapsed": false
   },
   "outputs": [
    {
     "name": "stdout",
     "output_type": "stream",
     "text": [
      "[('great', 54849), ('the', 41658), ('good', 38942), ('a', 38104), ('for', 30381), ('love', 27012), ('and', 26424), ('not', 25315), ('it', 25274), ('best', 25203), ('my', 21937), ('coffee', 19164), ('i', 18992), ('but', 18956), ('this', 18423), ('taste', 18104), ('tea', 17030), ('to', 15997), ('dog', 15956), ('product', 15577), ('of', 15451), ('is', 14187), ('delicious', 14020), ('s', 12939), ('very', 12002)]\n"
     ]
    }
   ],
   "source": [
    "topwords = [fpair[0] for fpair in list(word_features.most_common(5000))]\n",
    "print (word_features.most_common(25))"
   ]
  },
  {
   "cell_type": "code",
   "execution_count": 39,
   "metadata": {
    "collapsed": false
   },
   "outputs": [
    {
     "name": "stdout",
     "output_type": "stream",
     "text": [
      "        words  count\n",
      "0       great  54849\n",
      "1         the  41658\n",
      "2        good  38942\n",
      "3           a  38104\n",
      "4         for  30381\n",
      "5        love  27012\n",
      "6         and  26424\n",
      "7         not  25315\n",
      "8          it  25274\n",
      "9        best  25203\n",
      "10         my  21937\n",
      "11     coffee  19164\n",
      "12          i  18992\n",
      "13        but  18956\n",
      "14       this  18423\n",
      "15      taste  18104\n",
      "16        tea  17030\n",
      "17         to  15997\n",
      "18        dog  15956\n",
      "19    product  15577\n",
      "20         of  15451\n",
      "21         is  14187\n",
      "22  delicious  14020\n",
      "23          s  12939\n",
      "24       very  12002\n"
     ]
    }
   ],
   "source": [
    "word_his = pd.DataFrame(word_features.most_common(25),columns=['words','count'])\n",
    "print (word_his)"
   ]
  },
  {
   "cell_type": "code",
   "execution_count": 40,
   "metadata": {
    "collapsed": false
   },
   "outputs": [
    {
     "data": {
      "text/plain": [
       "<matplotlib.axes._subplots.AxesSubplot at 0x10154473c8>"
      ]
     },
     "execution_count": 40,
     "metadata": {},
     "output_type": "execute_result"
    },
    {
     "data": {
      "image/png": "[encoded data removed]",
      "text/plain": [
       "<matplotlib.figure.Figure at 0x1013808240>"
      ]
     },
     "metadata": {},
     "output_type": "display_data"
    }
   ],
   "source": [
    "word_his.plot(kind='bar',x=word_his['words'],color='g',legend=False,title='Top 20 most freq words',figsize=(10,6))"
   ]
  },
  {
   "cell_type": "code",
   "execution_count": 41,
   "metadata": {
    "collapsed": true
   },
   "outputs": [],
   "source": [
    "vec = CountVectorizer()\n",
    "c_fit = vec.fit_transform([' '.join(topwords)])"
   ]
  },
  {
   "cell_type": "code",
   "execution_count": 42,
   "metadata": {
    "collapsed": true
   },
   "outputs": [],
   "source": [
    "tf_vec = TfidfTransformer()\n",
    "tf_fit = tf_vec.fit_transform(c_fit)"
   ]
  },
  {
   "cell_type": "code",
   "execution_count": 43,
   "metadata": {
    "collapsed": false
   },
   "outputs": [
    {
     "name": "stdout",
     "output_type": "stream",
     "text": [
      "  (0, 4532)\t0.57735026919\n",
      "  (0, 1498)\t0.57735026919\n",
      "  (0, 433)\t0.57735026919\n",
      "  (1, 4549)\t0.4472135955\n",
      "  (1, 3004)\t0.4472135955\n",
      "  (1, 1691)\t0.4472135955\n",
      "  (1, 282)\t0.4472135955\n",
      "  (1, 165)\t0.4472135955\n",
      "  (2, 4695)\t0.57735026919\n",
      "  (2, 1906)\t0.57735026919\n",
      "  (2, 1799)\t0.57735026919\n",
      "  (3, 4636)\t0.408248290464\n",
      "  (3, 4414)\t0.408248290464\n",
      "  (3, 2626)\t0.408248290464\n",
      "  (3, 2178)\t0.408248290464\n",
      "  (3, 1412)\t0.408248290464\n",
      "  (3, 719)\t0.408248290464\n",
      "  (4, 4872)\t0.333333333333\n",
      "  (4, 4409)\t0.333333333333\n",
      "  (4, 3442)\t0.333333333333\n",
      "  (4, 3024)\t0.666666666667\n",
      "  (4, 617)\t0.333333333333\n",
      "  (4, 326)\t0.333333333333\n",
      "  (5, 4467)\t0.4472135955\n",
      "  (5, 3024)\t0.4472135955\n",
      "  :\t:\n",
      "  (426300, 4302)\t0.57735026919\n",
      "  (426300, 1791)\t0.57735026919\n",
      "  (426300, 203)\t0.57735026919\n",
      "  (426301, 3024)\t0.707106781187\n",
      "  (426301, 326)\t0.707106781187\n",
      "  (426302, 3790)\t0.707106781187\n",
      "  (426302, 1956)\t0.707106781187\n",
      "  (426303, 3930)\t0.408248290464\n",
      "  (426303, 2553)\t0.408248290464\n",
      "  (426303, 2322)\t0.408248290464\n",
      "  (426303, 958)\t0.408248290464\n",
      "  (426303, 859)\t0.408248290464\n",
      "  (426303, 203)\t0.408248290464\n",
      "  (426304, 3879)\t0.5\n",
      "  (426304, 1729)\t0.5\n",
      "  (426304, 916)\t0.5\n",
      "  (426304, 488)\t0.5\n",
      "  (426305, 2160)\t1.0\n",
      "  (426306, 4409)\t0.5\n",
      "  (426306, 3790)\t0.5\n",
      "  (426306, 3102)\t0.5\n",
      "  (426306, 677)\t0.5\n",
      "  (426307, 1610)\t1.0\n",
      "  (426308, 1325)\t0.707106781187\n",
      "  (426308, 625)\t0.707106781187\n"
     ]
    }
   ],
   "source": [
    "ctr_features = vec.transform(Data_train)\n",
    "tr_features = tf_vec.transform(ctr_features)\n",
    "print(tr_features)"
   ]
  },
  {
   "cell_type": "code",
   "execution_count": 44,
   "metadata": {
    "collapsed": false
   },
   "outputs": [
    {
     "name": "stdout",
     "output_type": "stream",
     "text": [
      "  (0, 4469)\t0.4472135955\n",
      "  (0, 4187)\t0.4472135955\n",
      "  (0, 1956)\t0.4472135955\n",
      "  (0, 1362)\t0.4472135955\n",
      "  (0, 617)\t0.4472135955\n",
      "  (1, 4467)\t0.408248290464\n",
      "  (1, 4424)\t0.408248290464\n",
      "  (1, 2990)\t0.408248290464\n",
      "  (1, 2944)\t0.408248290464\n",
      "  (1, 1613)\t0.408248290464\n",
      "  (1, 1395)\t0.408248290464\n",
      "  (2, 3464)\t0.707106781187\n",
      "  (2, 188)\t0.707106781187\n",
      "  (3, 4409)\t0.408248290464\n",
      "  (3, 3442)\t0.408248290464\n",
      "  (3, 3178)\t0.408248290464\n",
      "  (3, 1524)\t0.408248290464\n",
      "  (3, 389)\t0.408248290464\n",
      "  (3, 203)\t0.408248290464\n",
      "  (4, 4253)\t0.707106781187\n",
      "  (4, 1956)\t0.707106781187\n",
      "  (5, 4641)\t0.408248290464\n",
      "  (5, 4467)\t0.408248290464\n",
      "  (5, 4349)\t0.408248290464\n",
      "  (5, 3024)\t0.408248290464\n",
      "  :\t:\n",
      "  (142095, 4038)\t0.408248290464\n",
      "  (142095, 2771)\t0.408248290464\n",
      "  (142095, 2168)\t0.408248290464\n",
      "  (142096, 2432)\t0.57735026919\n",
      "  (142096, 353)\t0.57735026919\n",
      "  (142096, 248)\t0.57735026919\n",
      "  (142097, 4402)\t0.5\n",
      "  (142097, 4365)\t0.5\n",
      "  (142097, 2899)\t0.5\n",
      "  (142097, 1788)\t0.5\n",
      "  (142098, 4550)\t0.57735026919\n",
      "  (142098, 1956)\t0.57735026919\n",
      "  (142098, 901)\t0.57735026919\n",
      "  (142099, 2207)\t0.57735026919\n",
      "  (142099, 1319)\t0.57735026919\n",
      "  (142099, 1043)\t0.57735026919\n",
      "  (142100, 4914)\t0.707106781187\n",
      "  (142100, 3140)\t0.353553390593\n",
      "  (142100, 773)\t0.353553390593\n",
      "  (142100, 625)\t0.353553390593\n",
      "  (142100, 406)\t0.353553390593\n",
      "  (142101, 2322)\t0.707106781187\n",
      "  (142101, 326)\t0.707106781187\n",
      "  (142102, 1956)\t0.707106781187\n",
      "  (142102, 901)\t0.707106781187\n"
     ]
    }
   ],
   "source": [
    "cte_features = vec.transform(Data_test)\n",
    "te_features = tf_vec.transform(cte_features)\n",
    "print (te_features)"
   ]
  },
  {
   "cell_type": "code",
   "execution_count": 45,
   "metadata": {
    "collapsed": true
   },
   "outputs": [],
   "source": [
    "models = {'BernoulliNB':BernoulliNB()\n",
    "          ,'Logistic' : linear_model.LogisticRegression(C=1e5),'Decision Tree' : DecisionTreeClassifier(random_state=20160121, criterion='entropy')}"
   ]
  },
  {
   "cell_type": "code",
   "execution_count": 46,
   "metadata": {
    "collapsed": false
   },
   "outputs": [
    {
     "name": "stdout",
     "output_type": "stream",
     "text": [
      "   TF-IDF Accuracy          Model\n",
      "0         0.887870       Logistic\n",
      "1         0.914822  Decision Tree\n",
      "2         0.870045    BernoulliNB\n"
     ]
    }
   ],
   "source": [
    "results = pd.DataFrame()\n",
    "\n",
    "foldnum = 0\n",
    "tfprediction = {}\n",
    "cprediction = {}\n",
    "for name,model in models.items():\n",
    "        \n",
    "        model.fit(tr_features, Train_labels)\n",
    "        tfprediction[name] = model.predict(te_features)\n",
    "        tfaccuracy = metrics.accuracy_score(tfprediction[name],Test_labels)\n",
    "        \n",
    "        #model.fit(ctr_features,Train_labels)\n",
    "        #cprediction[name] = model.predict(cte_features)\n",
    "        #caccuracy = metrics.accuracy_score(cprediction[name],Test_labels)\n",
    "        \n",
    "        results.loc[foldnum,'TF-IDF Accuracy']=tfaccuracy\n",
    "        #results.loc[foldnum,'Count Accuracy']=caccuracy\n",
    "        results.loc[foldnum,'Model']=name\n",
    "        foldnum = foldnum+1\n",
    "print (results)"
   ]
  },
  {
   "cell_type": "code",
   "execution_count": 47,
   "metadata": {
    "collapsed": false
   },
   "outputs": [
    {
     "name": "stdout",
     "output_type": "stream",
     "text": [
      "Classification report for  Logistic\n",
      "             precision    recall  f1-score   support\n",
      "\n",
      "   negative       0.80      0.65      0.72     31162\n",
      "   positive       0.91      0.95      0.93    110941\n",
      "\n",
      "avg / total       0.88      0.89      0.88    142103\n",
      "\n",
      "\n",
      "\n",
      "Classification report for  Decision Tree\n",
      "             precision    recall  f1-score   support\n",
      "\n",
      "   negative       0.83      0.77      0.80     31162\n",
      "   positive       0.94      0.95      0.95    110941\n",
      "\n",
      "avg / total       0.91      0.91      0.91    142103\n",
      "\n",
      "\n",
      "\n",
      "Classification report for  BernoulliNB\n",
      "             precision    recall  f1-score   support\n",
      "\n",
      "   negative       0.72      0.66      0.69     31162\n",
      "   positive       0.91      0.93      0.92    110941\n",
      "\n",
      "avg / total       0.87      0.87      0.87    142103\n",
      "\n",
      "\n",
      "\n"
     ]
    }
   ],
   "source": [
    "for name,model in models.items():\n",
    "    print (\"Classification report for \",name)\n",
    "    print(metrics.classification_report(Test_labels, tfprediction[name]))\n",
    "    print(\"\\n\")"
   ]
  },
  {
   "cell_type": "code",
   "execution_count": 48,
   "metadata": {
    "collapsed": false
   },
   "outputs": [
    {
     "data": {
      "text/plain": [
       "<matplotlib.axes._subplots.AxesSubplot at 0x10004cfe80>"
      ]
     },
     "execution_count": 48,
     "metadata": {},
     "output_type": "execute_result"
    },
    {
     "data": {
      "image/png": "[encoded data removed]",
      "text/plain": [
       "<matplotlib.figure.Figure at 0x1013f89710>"
      ]
     },
     "metadata": {},
     "output_type": "display_data"
    }
   ],
   "source": [
    "results.plot(kind='bar',color = 'bcm', title='Model Performance',figsize=(10,6),x='Model',legend=False)"
   ]
  },
  {
   "cell_type": "code",
   "execution_count": 49,
   "metadata": {
    "collapsed": false
   },
   "outputs": [],
   "source": [
    "## comparing negative samples accuracies\n",
    "negcom = pd.DataFrame()\n",
    "for name,model in models.items():\n",
    "    p= recall_score(Test_labels,tfprediction[name],pos_label='negative')\n",
    "    negcom.loc[name,'recall'] = p"
   ]
  },
  {
   "cell_type": "code",
   "execution_count": 50,
   "metadata": {
    "collapsed": false
   },
   "outputs": [
    {
     "data": {
      "image/png": "[encoded data removed]",
      "text/plain": [
       "<matplotlib.figure.Figure at 0x10154aac18>"
      ]
     },
     "metadata": {},
     "output_type": "display_data"
    }
   ],
   "source": [
    "pl = negcom.plot(kind='bar',color=['r','g','b'],title='Most Freq Features',figsize=(10,6),legend=False)\n",
    "pl.set(xlabel='Models',ylabel='Recall')\n",
    "lim = plt.ylim([0,1])"
   ]
  },
  {
   "cell_type": "markdown",
   "metadata": {},
   "source": [
    "* Finally we can try by running it on our entire featureset. One can guess it will take a lot of time with Decision Tree Classifier.\n",
    "* We can make use of group of words to get better results. Sometimes sequence of words might have different effect on the prediction. Sequences like \"not good\" or \"not bad\" affect the prediction in way different than when used individually"
   ]
  },
  {
   "cell_type": "markdown",
   "metadata": {},
   "source": [
    "### Using Bigrams"
   ]
  },
  {
   "cell_type": "code",
   "execution_count": 51,
   "metadata": {
    "collapsed": true
   },
   "outputs": [],
   "source": [
    "## using countvectorizer to generate count vectors for the training data.\n",
    "vec_all = CountVectorizer(ngram_range=(1,2))\n",
    "ctr_features_all = vec_all.fit_transform(Data_train)"
   ]
  },
  {
   "cell_type": "code",
   "execution_count": 52,
   "metadata": {
    "collapsed": true
   },
   "outputs": [],
   "source": [
    "tf_vec_all = TfidfTransformer()\n",
    "tr_features_all = tf_vec_all.fit_transform(ctr_features_all)"
   ]
  },
  {
   "cell_type": "code",
   "execution_count": 53,
   "metadata": {
    "collapsed": true
   },
   "outputs": [],
   "source": [
    "cte_features_all = vec_all.transform(Data_test)\n",
    "te_features_all = tf_vec_all.transform(cte_features_all)"
   ]
  },
  {
   "cell_type": "code",
   "execution_count": 54,
   "metadata": {
    "collapsed": false
   },
   "outputs": [
    {
     "name": "stdout",
     "output_type": "stream",
     "text": [
      "(426309, 263810)\n"
     ]
    }
   ],
   "source": [
    "print ((ctr_features_all.shape))"
   ]
  },
  {
   "cell_type": "code",
   "execution_count": 55,
   "metadata": {
    "collapsed": false
   },
   "outputs": [
    {
     "name": "stdout",
     "output_type": "stream",
     "text": [
      "   TF-IDF Accuracy          Model\n",
      "0         0.928770       Logistic\n",
      "1         0.916413  Decision Tree\n",
      "2         0.886561    BernoulliNB\n"
     ]
    }
   ],
   "source": [
    "results_all_bi = pd.DataFrame()\n",
    "\n",
    "#stratified = StratifiedKFold(labels, n_folds=5,random_state=20160121, shuffle=True)\n",
    "tfprediction = {}\n",
    "cprediction = {}\n",
    "foldnum = 0\n",
    "for name,model in models.items():\n",
    "        \n",
    "        model.fit(tr_features_all, Train_labels)\n",
    "        tfprediction[name] = model.predict(te_features_all)\n",
    "        tfaccuracy = metrics.accuracy_score(tfprediction[name],Test_labels)\n",
    "        \n",
    "        #model.fit(ctr_features_all,Train_labels)\n",
    "        #cprediction[name] = model.predict(cte_features_all)\n",
    "        #caccuracy = metrics.accuracy_score(cprediction[name],Test_labels)\n",
    "        \n",
    "        results_all_bi.loc[foldnum,'TF-IDF Accuracy']=tfaccuracy\n",
    "        #results_all_bi.loc[foldnum,'Count Accuracy']=caccuracy\n",
    "        results_all_bi.loc[foldnum,'Model']=name\n",
    "        foldnum = foldnum+1\n",
    "print (results_all_bi)"
   ]
  },
  {
   "cell_type": "code",
   "execution_count": 56,
   "metadata": {
    "collapsed": false
   },
   "outputs": [
    {
     "name": "stdout",
     "output_type": "stream",
     "text": [
      "Classification report for  Logistic\n",
      "             precision    recall  f1-score   support\n",
      "\n",
      "   negative       0.87      0.80      0.83     31162\n",
      "   positive       0.94      0.97      0.95    110941\n",
      "\n",
      "avg / total       0.93      0.93      0.93    142103\n",
      "\n",
      "\n",
      "\n",
      "Classification report for  Decision Tree\n",
      "             precision    recall  f1-score   support\n",
      "\n",
      "   negative       0.82      0.79      0.81     31162\n",
      "   positive       0.94      0.95      0.95    110941\n",
      "\n",
      "avg / total       0.92      0.92      0.92    142103\n",
      "\n",
      "\n",
      "\n",
      "Classification report for  BernoulliNB\n",
      "             precision    recall  f1-score   support\n",
      "\n",
      "   negative       0.79      0.66      0.72     31162\n",
      "   positive       0.91      0.95      0.93    110941\n",
      "\n",
      "avg / total       0.88      0.89      0.88    142103\n",
      "\n",
      "\n",
      "\n"
     ]
    }
   ],
   "source": [
    "for name,model in models.items():\n",
    "    print (\"Classification report for \",name)\n",
    "    print(metrics.classification_report(Test_labels, tfprediction[name]))\n",
    "    print(\"\\n\")"
   ]
  },
  {
   "cell_type": "code",
   "execution_count": 57,
   "metadata": {
    "collapsed": false
   },
   "outputs": [
    {
     "data": {
      "text/plain": [
       "<matplotlib.axes._subplots.AxesSubplot at 0x1013819b00>"
      ]
     },
     "execution_count": 57,
     "metadata": {},
     "output_type": "execute_result"
    },
    {
     "data": {
      "image/png": "[encoded data removed]",
      "text/plain": [
       "<matplotlib.figure.Figure at 0x1013819198>"
      ]
     },
     "metadata": {},
     "output_type": "display_data"
    }
   ],
   "source": [
    "results_all_bi.plot(kind='bar',color=['y','m','c'],title='Model Performance',figsize=(10,6),x='Model',legend=False)"
   ]
  },
  {
   "cell_type": "code",
   "execution_count": 58,
   "metadata": {
    "collapsed": false
   },
   "outputs": [],
   "source": [
    "## comparing negative samples accuracies\n",
    "negcom = pd.DataFrame()\n",
    "for name,model in models.items():\n",
    "    p= recall_score(Test_labels,tfprediction[name],pos_label='negative')\n",
    "    negcom.loc[name,'recall'] = p"
   ]
  },
  {
   "cell_type": "code",
   "execution_count": 59,
   "metadata": {
    "collapsed": false
   },
   "outputs": [
    {
     "data": {
      "image/png": "[encoded data removed]",
      "text/plain": [
       "<matplotlib.figure.Figure at 0x101435f128>"
      ]
     },
     "metadata": {},
     "output_type": "display_data"
    }
   ],
   "source": [
    "pl = negcom.plot(kind='bar',color=['g','y','b'],title='Bigram',figsize=(10,6),legend=False)\n",
    "pl.set(xlabel='Models',ylabel='Recall for negative samples')\n",
    "lim = plt.ylim([0,1])"
   ]
  },
  {
   "cell_type": "code",
   "execution_count": 60,
   "metadata": {
    "collapsed": false
   },
   "outputs": [
    {
     "data": {
      "image/png": "[encoded data removed]",
      "text/plain": [
       "<matplotlib.figure.Figure at 0x101382aeb8>"
      ]
     },
     "metadata": {},
     "output_type": "display_data"
    },
    {
     "data": {
      "image/png": "[encoded data removed]",
      "text/plain": [
       "<matplotlib.figure.Figure at 0x101432a358>"
      ]
     },
     "metadata": {},
     "output_type": "display_data"
    }
   ],
   "source": [
    "def plot_confusion_matrix(cm, title='Confusion matrix', cmap=plt.cm.autumn):\n",
    "    plt.imshow(cm, interpolation='nearest', cmap=cmap)\n",
    "    plt.title(title)\n",
    "    plt.colorbar()\n",
    "    tick_marks = np.arange(len(set(labels)))\n",
    "    plt.xticks(tick_marks, ['neg','pos'], rotation=45)\n",
    "    plt.yticks(tick_marks, ['neg','pos'])\n",
    "    plt.tight_layout()\n",
    "    plt.ylabel('True label')\n",
    "    plt.xlabel('Predicted label')\n",
    "    \n",
    "# Compute confusion matrix\n",
    "cm = confusion_matrix(Test_labels, tfprediction['Logistic'])\n",
    "np.set_printoptions(precision=2)\n",
    "plt.figure()\n",
    "plot_confusion_matrix(cm)    \n",
    "\n",
    "cm_normalized = cm.astype('float') / cm.sum(axis=1)[:, np.newaxis]\n",
    "plt.figure()\n",
    "plot_confusion_matrix(cm_normalized, title='Normalized confusion matrix')\n",
    "\n",
    "plt.show()"
   ]
  },
  {
   "cell_type": "code",
   "execution_count": 63,
   "metadata": {
    "collapsed": false
   },
   "outputs": [
    {
     "ename": "ValueError",
     "evalue": "The truth value of a Series is ambiguous. Use a.empty, a.bool(), a.item(), a.any() or a.all().",
     "output_type": "error",
     "traceback": [
      "\u001b[0;31m---------------------------------------------------------------------------\u001b[0m",
      "\u001b[0;31mValueError\u001b[0m                                Traceback (most recent call last)",
      "\u001b[0;32m<ipython-input-63-0f4a1fb6e0a5>\u001b[0m in \u001b[0;36m<module>\u001b[0;34m()\u001b[0m\n\u001b[0;32m----> 1\u001b[0;31m \u001b[1;32mif\u001b[0m \u001b[0mreviews\u001b[0m\u001b[1;33m[\u001b[0m\u001b[1;34m'score'\u001b[0m\u001b[1;33m]\u001b[0m \u001b[1;33m==\u001b[0m\u001b[1;36m5\u001b[0m\u001b[1;33m:\u001b[0m\u001b[1;33m\u001b[0m\u001b[0m\n\u001b[0m\u001b[1;32m      2\u001b[0m      \u001b[0mprint\u001b[0m \u001b[1;33m(\u001b[0m\u001b[0mreviews\u001b[0m\u001b[1;33m[\u001b[0m\u001b[1;34m'text'\u001b[0m\u001b[1;33m]\u001b[0m\u001b[1;33m)\u001b[0m\u001b[1;33m\u001b[0m\u001b[0m\n",
      "\u001b[0;32mC:\\Users\\Admin\\Anaconda3\\lib\\site-packages\\pandas\\core\\generic.py\u001b[0m in \u001b[0;36m__nonzero__\u001b[0;34m(self)\u001b[0m\n\u001b[1;32m    915\u001b[0m         raise ValueError(\"The truth value of a {0} is ambiguous. \"\n\u001b[1;32m    916\u001b[0m                          \u001b[1;34m\"Use a.empty, a.bool(), a.item(), a.any() or a.all().\"\u001b[0m\u001b[1;33m\u001b[0m\u001b[0m\n\u001b[0;32m--> 917\u001b[0;31m                          .format(self.__class__.__name__))\n\u001b[0m\u001b[1;32m    918\u001b[0m \u001b[1;33m\u001b[0m\u001b[0m\n\u001b[1;32m    919\u001b[0m     \u001b[0m__bool__\u001b[0m \u001b[1;33m=\u001b[0m \u001b[0m__nonzero__\u001b[0m\u001b[1;33m\u001b[0m\u001b[0m\n",
      "\u001b[0;31mValueError\u001b[0m: The truth value of a Series is ambiguous. Use a.empty, a.bool(), a.item(), a.any() or a.all()."
     ]
    }
   ],
   "source": [
    "top_good=[]\n",
    "if reviews['score'] ==5:\n",
    "    \n",
    "     print (reviews['text'])"
   ]
  }
 ],
 "metadata": {
  "anaconda-cloud": {},
  "kernelspec": {
   "display_name": "Python [conda root]",
   "language": "python",
   "name": "conda-root-py"
  },
  "language_info": {
   "codemirror_mode": {
    "name": "ipython",
    "version": 3
   },
   "file_extension": ".py",
   "mimetype": "text/x-python",
   "name": "python",
   "nbconvert_exporter": "python",
   "pygments_lexer": "ipython3",
   "version": "3.5.2"
  }
 },
 "nbformat": 4,
 "nbformat_minor": 1
}
